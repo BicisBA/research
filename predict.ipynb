{
 "cells": [
  {
   "cell_type": "code",
   "execution_count": 1,
   "id": "3c285109-bb00-4293-b0e9-003ac4de77fa",
   "metadata": {},
   "outputs": [
    {
     "name": "stderr",
     "output_type": "stream",
     "text": [
      "Importing plotly failed. Interactive plots will not work.\n"
     ]
    }
   ],
   "source": [
    "import pandas as pd\n",
    "from prophet import Prophet\n",
    "import seaborn as sns"
   ]
  },
  {
   "cell_type": "code",
   "execution_count": 2,
   "id": "5a1af753",
   "metadata": {},
   "outputs": [
    {
     "data": {
      "text/html": [
       "<div>\n",
       "<style scoped>\n",
       "    .dataframe tbody tr th:only-of-type {\n",
       "        vertical-align: middle;\n",
       "    }\n",
       "\n",
       "    .dataframe tbody tr th {\n",
       "        vertical-align: top;\n",
       "    }\n",
       "\n",
       "    .dataframe thead th {\n",
       "        text-align: right;\n",
       "    }\n",
       "</style>\n",
       "<table border=\"1\" class=\"dataframe\">\n",
       "  <thead>\n",
       "    <tr style=\"text-align: right;\">\n",
       "      <th></th>\n",
       "      <th>station_id</th>\n",
       "      <th>num_bikes_available</th>\n",
       "      <th>num_bikes_available_types</th>\n",
       "      <th>num_bikes_disabled</th>\n",
       "      <th>num_docks_available</th>\n",
       "      <th>num_docks_disabled</th>\n",
       "      <th>last_reported</th>\n",
       "      <th>is_charging_station</th>\n",
       "      <th>status</th>\n",
       "      <th>is_installed</th>\n",
       "      <th>is_renting</th>\n",
       "      <th>is_returning</th>\n",
       "      <th>traffic</th>\n",
       "      <th>datetime</th>\n",
       "      <th>time_since_prev_report</th>\n",
       "      <th>available_bikes_delta</th>\n",
       "    </tr>\n",
       "  </thead>\n",
       "  <tbody>\n",
       "    <tr>\n",
       "      <th>0</th>\n",
       "      <td>2</td>\n",
       "      <td>15</td>\n",
       "      <td>{'mechanical': 15, 'ebike': 0}</td>\n",
       "      <td>5</td>\n",
       "      <td>0</td>\n",
       "      <td>0</td>\n",
       "      <td>2022-09-30 23:58:13</td>\n",
       "      <td>False</td>\n",
       "      <td>IN_SERVICE</td>\n",
       "      <td>True</td>\n",
       "      <td>True</td>\n",
       "      <td>True</td>\n",
       "      <td>None</td>\n",
       "      <td>2022-10-01 00:02:00</td>\n",
       "      <td>NaN</td>\n",
       "      <td>NaN</td>\n",
       "    </tr>\n",
       "    <tr>\n",
       "      <th>0</th>\n",
       "      <td>2</td>\n",
       "      <td>14</td>\n",
       "      <td>{'mechanical': 14, 'ebike': 0}</td>\n",
       "      <td>5</td>\n",
       "      <td>1</td>\n",
       "      <td>0</td>\n",
       "      <td>2022-10-01 00:02:34</td>\n",
       "      <td>False</td>\n",
       "      <td>IN_SERVICE</td>\n",
       "      <td>True</td>\n",
       "      <td>True</td>\n",
       "      <td>True</td>\n",
       "      <td>None</td>\n",
       "      <td>2022-10-01 00:06:00</td>\n",
       "      <td>261.0</td>\n",
       "      <td>-1.0</td>\n",
       "    </tr>\n",
       "    <tr>\n",
       "      <th>0</th>\n",
       "      <td>2</td>\n",
       "      <td>14</td>\n",
       "      <td>{'mechanical': 14, 'ebike': 0}</td>\n",
       "      <td>5</td>\n",
       "      <td>1</td>\n",
       "      <td>0</td>\n",
       "      <td>2022-10-01 00:06:53</td>\n",
       "      <td>False</td>\n",
       "      <td>IN_SERVICE</td>\n",
       "      <td>True</td>\n",
       "      <td>True</td>\n",
       "      <td>True</td>\n",
       "      <td>None</td>\n",
       "      <td>2022-10-01 00:10:00</td>\n",
       "      <td>259.0</td>\n",
       "      <td>0.0</td>\n",
       "    </tr>\n",
       "    <tr>\n",
       "      <th>0</th>\n",
       "      <td>2</td>\n",
       "      <td>14</td>\n",
       "      <td>{'mechanical': 14, 'ebike': 0}</td>\n",
       "      <td>5</td>\n",
       "      <td>1</td>\n",
       "      <td>0</td>\n",
       "      <td>2022-10-01 00:11:14</td>\n",
       "      <td>False</td>\n",
       "      <td>IN_SERVICE</td>\n",
       "      <td>True</td>\n",
       "      <td>True</td>\n",
       "      <td>True</td>\n",
       "      <td>None</td>\n",
       "      <td>2022-10-01 00:11:00</td>\n",
       "      <td>261.0</td>\n",
       "      <td>0.0</td>\n",
       "    </tr>\n",
       "    <tr>\n",
       "      <th>0</th>\n",
       "      <td>2</td>\n",
       "      <td>14</td>\n",
       "      <td>{'mechanical': 14, 'ebike': 0}</td>\n",
       "      <td>5</td>\n",
       "      <td>1</td>\n",
       "      <td>0</td>\n",
       "      <td>2022-10-01 00:15:34</td>\n",
       "      <td>False</td>\n",
       "      <td>IN_SERVICE</td>\n",
       "      <td>True</td>\n",
       "      <td>True</td>\n",
       "      <td>True</td>\n",
       "      <td>None</td>\n",
       "      <td>2022-10-01 00:17:00</td>\n",
       "      <td>260.0</td>\n",
       "      <td>0.0</td>\n",
       "    </tr>\n",
       "  </tbody>\n",
       "</table>\n",
       "</div>"
      ],
      "text/plain": [
       "   station_id  num_bikes_available       num_bikes_available_types  \\\n",
       "0           2                   15  {'mechanical': 15, 'ebike': 0}   \n",
       "0           2                   14  {'mechanical': 14, 'ebike': 0}   \n",
       "0           2                   14  {'mechanical': 14, 'ebike': 0}   \n",
       "0           2                   14  {'mechanical': 14, 'ebike': 0}   \n",
       "0           2                   14  {'mechanical': 14, 'ebike': 0}   \n",
       "\n",
       "   num_bikes_disabled  num_docks_available  num_docks_disabled  \\\n",
       "0                   5                    0                   0   \n",
       "0                   5                    1                   0   \n",
       "0                   5                    1                   0   \n",
       "0                   5                    1                   0   \n",
       "0                   5                    1                   0   \n",
       "\n",
       "        last_reported  is_charging_station      status  is_installed  \\\n",
       "0 2022-09-30 23:58:13                False  IN_SERVICE          True   \n",
       "0 2022-10-01 00:02:34                False  IN_SERVICE          True   \n",
       "0 2022-10-01 00:06:53                False  IN_SERVICE          True   \n",
       "0 2022-10-01 00:11:14                False  IN_SERVICE          True   \n",
       "0 2022-10-01 00:15:34                False  IN_SERVICE          True   \n",
       "\n",
       "   is_renting  is_returning traffic            datetime  \\\n",
       "0        True          True    None 2022-10-01 00:02:00   \n",
       "0        True          True    None 2022-10-01 00:06:00   \n",
       "0        True          True    None 2022-10-01 00:10:00   \n",
       "0        True          True    None 2022-10-01 00:11:00   \n",
       "0        True          True    None 2022-10-01 00:17:00   \n",
       "\n",
       "   time_since_prev_report  available_bikes_delta  \n",
       "0                     NaN                    NaN  \n",
       "0                   261.0                   -1.0  \n",
       "0                   259.0                    0.0  \n",
       "0                   261.0                    0.0  \n",
       "0                   260.0                    0.0  "
      ]
     },
     "execution_count": 2,
     "metadata": {},
     "output_type": "execute_result"
    }
   ],
   "source": [
    "df = pd.read_parquet(\"./data/parquets/2022-10.parquet\")\n",
    "df.head()"
   ]
  },
  {
   "cell_type": "code",
   "execution_count": 3,
   "id": "1f66831a",
   "metadata": {},
   "outputs": [],
   "source": [
    "df['ds'] = pd.to_datetime(df['last_reported'])\n",
    "df['y'] = df['num_bikes_available']"
   ]
  },
  {
   "cell_type": "markdown",
   "id": "5ae9edbc",
   "metadata": {},
   "source": [
    "# Base prophet model"
   ]
  },
  {
   "cell_type": "code",
   "execution_count": 4,
   "id": "4c086078",
   "metadata": {},
   "outputs": [
    {
     "name": "stderr",
     "output_type": "stream",
     "text": [
      "15:40:13 - cmdstanpy - INFO - Chain [1] start processing\n",
      "15:40:13 - cmdstanpy - INFO - Chain [1] done processing\n"
     ]
    },
    {
     "data": {
      "text/plain": [
       "<prophet.forecaster.Prophet at 0x7fa50b8f6bc0>"
      ]
     },
     "execution_count": 4,
     "metadata": {},
     "output_type": "execute_result"
    }
   ],
   "source": [
    "m = Prophet()\n",
    "m.fit(df.loc[df.station_id == 117][[\"ds\", \"y\"]])"
   ]
  },
  {
   "cell_type": "code",
   "execution_count": 5,
   "id": "e8960213",
   "metadata": {},
   "outputs": [
    {
     "data": {
      "image/png": "[encoded data removed]",
      "text/plain": [
       "<Figure size 1000x600 with 1 Axes>"
      ]
     },
     "metadata": {},
     "output_type": "display_data"
    }
   ],
   "source": [
    "future = m.make_future_dataframe(periods=15, freq='H')\n",
    "fcst = m.predict(future)\n",
    "fig = m.plot(fcst)"
   ]
  },
  {
   "cell_type": "code",
   "execution_count": 6,
   "id": "f1e9d204",
   "metadata": {},
   "outputs": [
    {
     "data": {
      "image/png": "[encoded data removed]",
      "text/plain": [
       "<Figure size 900x600 with 2 Axes>"
      ]
     },
     "metadata": {},
     "output_type": "display_data"
    }
   ],
   "source": [
    "fig = m.plot_components(fcst);"
   ]
  },
  {
   "cell_type": "markdown",
   "id": "83277685",
   "metadata": {},
   "source": [
    "# Mean lambda predictor"
   ]
  },
  {
   "cell_type": "code",
   "execution_count": 7,
   "id": "f42afdef",
   "metadata": {},
   "outputs": [],
   "source": [
    "df[\"time_reported\"] = df[\"last_reported\"].dt.time"
   ]
  },
  {
   "cell_type": "code",
   "execution_count": 8,
   "id": "f3720c87",
   "metadata": {},
   "outputs": [
    {
     "data": {
      "text/plain": [
       "count    2812.000000\n",
       "mean        0.003201\n",
       "std         0.410192\n",
       "min        -3.000000\n",
       "25%         0.000000\n",
       "50%         0.000000\n",
       "75%         0.000000\n",
       "max         5.000000\n",
       "Name: available_bikes_delta, dtype: float64"
      ]
     },
     "execution_count": 8,
     "metadata": {},
     "output_type": "execute_result"
    }
   ],
   "source": [
    "time_range = pd.date_range(start='1/1/2018', end='2/1/2018', freq='5min').time\n",
    "\n",
    "df[(df[\"time_reported\"] > time_range[130]) & (df[\"time_reported\"] <= time_range[131])][\"available_bikes_delta\"].describe()"
   ]
  },
  {
   "cell_type": "code",
   "execution_count": 12,
   "id": "0501a5f6",
   "metadata": {},
   "outputs": [
    {
     "data": {
      "text/html": [
       "<div>\n",
       "<style scoped>\n",
       "    .dataframe tbody tr th:only-of-type {\n",
       "        vertical-align: middle;\n",
       "    }\n",
       "\n",
       "    .dataframe tbody tr th {\n",
       "        vertical-align: top;\n",
       "    }\n",
       "\n",
       "    .dataframe thead th {\n",
       "        text-align: right;\n",
       "    }\n",
       "</style>\n",
       "<table border=\"1\" class=\"dataframe\">\n",
       "  <thead>\n",
       "    <tr style=\"text-align: right;\">\n",
       "      <th></th>\n",
       "      <th>station_id</th>\n",
       "      <th>num_bikes_available</th>\n",
       "      <th>num_bikes_available_types</th>\n",
       "      <th>num_bikes_disabled</th>\n",
       "      <th>num_docks_available</th>\n",
       "      <th>num_docks_disabled</th>\n",
       "      <th>last_reported</th>\n",
       "      <th>is_charging_station</th>\n",
       "      <th>status</th>\n",
       "      <th>is_installed</th>\n",
       "      <th>...</th>\n",
       "      <th>is_returning</th>\n",
       "      <th>traffic</th>\n",
       "      <th>datetime</th>\n",
       "      <th>time_since_prev_report</th>\n",
       "      <th>available_bikes_delta</th>\n",
       "      <th>ds</th>\n",
       "      <th>y</th>\n",
       "      <th>time_reported</th>\n",
       "      <th>bikes_per_second</th>\n",
       "      <th>hour</th>\n",
       "    </tr>\n",
       "  </thead>\n",
       "  <tbody>\n",
       "    <tr>\n",
       "      <th>0</th>\n",
       "      <td>2</td>\n",
       "      <td>15</td>\n",
       "      <td>{'mechanical': 15, 'ebike': 0}</td>\n",
       "      <td>5</td>\n",
       "      <td>0</td>\n",
       "      <td>0</td>\n",
       "      <td>2022-09-30 23:58:13</td>\n",
       "      <td>False</td>\n",
       "      <td>IN_SERVICE</td>\n",
       "      <td>True</td>\n",
       "      <td>...</td>\n",
       "      <td>True</td>\n",
       "      <td>None</td>\n",
       "      <td>2022-10-01 00:02:00</td>\n",
       "      <td>NaN</td>\n",
       "      <td>NaN</td>\n",
       "      <td>2022-09-30 23:58:13</td>\n",
       "      <td>15</td>\n",
       "      <td>23:58:13</td>\n",
       "      <td>NaN</td>\n",
       "      <td>23</td>\n",
       "    </tr>\n",
       "    <tr>\n",
       "      <th>0</th>\n",
       "      <td>2</td>\n",
       "      <td>14</td>\n",
       "      <td>{'mechanical': 14, 'ebike': 0}</td>\n",
       "      <td>5</td>\n",
       "      <td>1</td>\n",
       "      <td>0</td>\n",
       "      <td>2022-10-01 00:02:34</td>\n",
       "      <td>False</td>\n",
       "      <td>IN_SERVICE</td>\n",
       "      <td>True</td>\n",
       "      <td>...</td>\n",
       "      <td>True</td>\n",
       "      <td>None</td>\n",
       "      <td>2022-10-01 00:06:00</td>\n",
       "      <td>261.0</td>\n",
       "      <td>-1.0</td>\n",
       "      <td>2022-10-01 00:02:34</td>\n",
       "      <td>14</td>\n",
       "      <td>00:02:34</td>\n",
       "      <td>-0.003831</td>\n",
       "      <td>0</td>\n",
       "    </tr>\n",
       "    <tr>\n",
       "      <th>0</th>\n",
       "      <td>2</td>\n",
       "      <td>14</td>\n",
       "      <td>{'mechanical': 14, 'ebike': 0}</td>\n",
       "      <td>5</td>\n",
       "      <td>1</td>\n",
       "      <td>0</td>\n",
       "      <td>2022-10-01 00:06:53</td>\n",
       "      <td>False</td>\n",
       "      <td>IN_SERVICE</td>\n",
       "      <td>True</td>\n",
       "      <td>...</td>\n",
       "      <td>True</td>\n",
       "      <td>None</td>\n",
       "      <td>2022-10-01 00:10:00</td>\n",
       "      <td>259.0</td>\n",
       "      <td>0.0</td>\n",
       "      <td>2022-10-01 00:06:53</td>\n",
       "      <td>14</td>\n",
       "      <td>00:06:53</td>\n",
       "      <td>0.000000</td>\n",
       "      <td>0</td>\n",
       "    </tr>\n",
       "    <tr>\n",
       "      <th>0</th>\n",
       "      <td>2</td>\n",
       "      <td>14</td>\n",
       "      <td>{'mechanical': 14, 'ebike': 0}</td>\n",
       "      <td>5</td>\n",
       "      <td>1</td>\n",
       "      <td>0</td>\n",
       "      <td>2022-10-01 00:11:14</td>\n",
       "      <td>False</td>\n",
       "      <td>IN_SERVICE</td>\n",
       "      <td>True</td>\n",
       "      <td>...</td>\n",
       "      <td>True</td>\n",
       "      <td>None</td>\n",
       "      <td>2022-10-01 00:11:00</td>\n",
       "      <td>261.0</td>\n",
       "      <td>0.0</td>\n",
       "      <td>2022-10-01 00:11:14</td>\n",
       "      <td>14</td>\n",
       "      <td>00:11:14</td>\n",
       "      <td>0.000000</td>\n",
       "      <td>0</td>\n",
       "    </tr>\n",
       "    <tr>\n",
       "      <th>0</th>\n",
       "      <td>2</td>\n",
       "      <td>14</td>\n",
       "      <td>{'mechanical': 14, 'ebike': 0}</td>\n",
       "      <td>5</td>\n",
       "      <td>1</td>\n",
       "      <td>0</td>\n",
       "      <td>2022-10-01 00:15:34</td>\n",
       "      <td>False</td>\n",
       "      <td>IN_SERVICE</td>\n",
       "      <td>True</td>\n",
       "      <td>...</td>\n",
       "      <td>True</td>\n",
       "      <td>None</td>\n",
       "      <td>2022-10-01 00:17:00</td>\n",
       "      <td>260.0</td>\n",
       "      <td>0.0</td>\n",
       "      <td>2022-10-01 00:15:34</td>\n",
       "      <td>14</td>\n",
       "      <td>00:15:34</td>\n",
       "      <td>0.000000</td>\n",
       "      <td>0</td>\n",
       "    </tr>\n",
       "  </tbody>\n",
       "</table>\n",
       "<p>5 rows × 21 columns</p>\n",
       "</div>"
      ],
      "text/plain": [
       "   station_id  num_bikes_available       num_bikes_available_types  \\\n",
       "0           2                   15  {'mechanical': 15, 'ebike': 0}   \n",
       "0           2                   14  {'mechanical': 14, 'ebike': 0}   \n",
       "0           2                   14  {'mechanical': 14, 'ebike': 0}   \n",
       "0           2                   14  {'mechanical': 14, 'ebike': 0}   \n",
       "0           2                   14  {'mechanical': 14, 'ebike': 0}   \n",
       "\n",
       "   num_bikes_disabled  num_docks_available  num_docks_disabled  \\\n",
       "0                   5                    0                   0   \n",
       "0                   5                    1                   0   \n",
       "0                   5                    1                   0   \n",
       "0                   5                    1                   0   \n",
       "0                   5                    1                   0   \n",
       "\n",
       "        last_reported  is_charging_station      status  is_installed  ...  \\\n",
       "0 2022-09-30 23:58:13                False  IN_SERVICE          True  ...   \n",
       "0 2022-10-01 00:02:34                False  IN_SERVICE          True  ...   \n",
       "0 2022-10-01 00:06:53                False  IN_SERVICE          True  ...   \n",
       "0 2022-10-01 00:11:14                False  IN_SERVICE          True  ...   \n",
       "0 2022-10-01 00:15:34                False  IN_SERVICE          True  ...   \n",
       "\n",
       "   is_returning  traffic            datetime time_since_prev_report  \\\n",
       "0          True     None 2022-10-01 00:02:00                    NaN   \n",
       "0          True     None 2022-10-01 00:06:00                  261.0   \n",
       "0          True     None 2022-10-01 00:10:00                  259.0   \n",
       "0          True     None 2022-10-01 00:11:00                  261.0   \n",
       "0          True     None 2022-10-01 00:17:00                  260.0   \n",
       "\n",
       "   available_bikes_delta                  ds   y  time_reported  \\\n",
       "0                    NaN 2022-09-30 23:58:13  15       23:58:13   \n",
       "0                   -1.0 2022-10-01 00:02:34  14       00:02:34   \n",
       "0                    0.0 2022-10-01 00:06:53  14       00:06:53   \n",
       "0                    0.0 2022-10-01 00:11:14  14       00:11:14   \n",
       "0                    0.0 2022-10-01 00:15:34  14       00:15:34   \n",
       "\n",
       "  bikes_per_second  hour  \n",
       "0              NaN    23  \n",
       "0        -0.003831     0  \n",
       "0         0.000000     0  \n",
       "0         0.000000     0  \n",
       "0         0.000000     0  \n",
       "\n",
       "[5 rows x 21 columns]"
      ]
     },
     "execution_count": 12,
     "metadata": {},
     "output_type": "execute_result"
    }
   ],
   "source": [
    "df[\"bikes_per_second\"] = df[\"available_bikes_delta\"] / df[\"time_since_prev_report\"]\n",
    "df[\"hour\"] = df[\"last_reported\"].dt.hour\n",
    "df.head()"
   ]
  },
  {
   "cell_type": "code",
   "execution_count": 13,
   "id": "c39d80a9",
   "metadata": {},
   "outputs": [
    {
     "data": {
      "text/plain": [
       "<AxesSubplot: xlabel='time_since_prev_report', ylabel='available_bikes_delta'>"
      ]
     },
     "execution_count": 13,
     "metadata": {},
     "output_type": "execute_result"
    },
    {
     "data": {
      "image/png": "[encoded data removed]",
      "text/plain": [
       "<Figure size 640x480 with 1 Axes>"
      ]
     },
     "metadata": {},
     "output_type": "display_data"
    }
   ],
   "source": [
    "sns.scatterplot(data=df.loc[df.station_id == 117], y=\"available_bikes_delta\",\n",
    "    hue=\"hour\",\n",
    "    x=\"time_since_prev_report\")"
   ]
  },
  {
   "cell_type": "code",
   "execution_count": 11,
   "id": "2e01315e",
   "metadata": {},
   "outputs": [
    {
     "name": "stderr",
     "output_type": "stream",
     "text": [
      "/tmp/ipykernel_249759/1944878906.py:1: FutureWarning: The default value of numeric_only in DataFrameGroupBy.mean is deprecated. In a future version, numeric_only will default to False. Either specify numeric_only or select only columns which should be valid for the function.\n",
      "  df.loc[(df.station_id == 117) & (df.available_bikes_delta != 0)].groupby(\"hour\").mean()\n"
     ]
    },
    {
     "data": {
      "text/html": [
       "<div>\n",
       "<style scoped>\n",
       "    .dataframe tbody tr th:only-of-type {\n",
       "        vertical-align: middle;\n",
       "    }\n",
       "\n",
       "    .dataframe tbody tr th {\n",
       "        vertical-align: top;\n",
       "    }\n",
       "\n",
       "    .dataframe thead th {\n",
       "        text-align: right;\n",
       "    }\n",
       "</style>\n",
       "<table border=\"1\" class=\"dataframe\">\n",
       "  <thead>\n",
       "    <tr style=\"text-align: right;\">\n",
       "      <th></th>\n",
       "      <th>station_id</th>\n",
       "      <th>num_bikes_available</th>\n",
       "      <th>num_bikes_disabled</th>\n",
       "      <th>num_docks_available</th>\n",
       "      <th>num_docks_disabled</th>\n",
       "      <th>is_charging_station</th>\n",
       "      <th>is_installed</th>\n",
       "      <th>is_renting</th>\n",
       "      <th>is_returning</th>\n",
       "      <th>time_since_prev_report</th>\n",
       "      <th>available_bikes_delta</th>\n",
       "      <th>y</th>\n",
       "      <th>bikes_per_second</th>\n",
       "    </tr>\n",
       "    <tr>\n",
       "      <th>hour</th>\n",
       "      <th></th>\n",
       "      <th></th>\n",
       "      <th></th>\n",
       "      <th></th>\n",
       "      <th></th>\n",
       "      <th></th>\n",
       "      <th></th>\n",
       "      <th></th>\n",
       "      <th></th>\n",
       "      <th></th>\n",
       "      <th></th>\n",
       "      <th></th>\n",
       "      <th></th>\n",
       "    </tr>\n",
       "  </thead>\n",
       "  <tbody>\n",
       "    <tr>\n",
       "      <th>0</th>\n",
       "      <td>117.0</td>\n",
       "      <td>8.035714</td>\n",
       "      <td>1.500000</td>\n",
       "      <td>6.464286</td>\n",
       "      <td>0.0</td>\n",
       "      <td>0.0</td>\n",
       "      <td>1.0</td>\n",
       "      <td>1.0</td>\n",
       "      <td>1.0</td>\n",
       "      <td>260.750000</td>\n",
       "      <td>0.285714</td>\n",
       "      <td>8.035714</td>\n",
       "      <td>0.001116</td>\n",
       "    </tr>\n",
       "    <tr>\n",
       "      <th>1</th>\n",
       "      <td>117.0</td>\n",
       "      <td>7.764706</td>\n",
       "      <td>1.352941</td>\n",
       "      <td>6.882353</td>\n",
       "      <td>0.0</td>\n",
       "      <td>0.0</td>\n",
       "      <td>1.0</td>\n",
       "      <td>1.0</td>\n",
       "      <td>1.0</td>\n",
       "      <td>259.235294</td>\n",
       "      <td>-0.176471</td>\n",
       "      <td>7.764706</td>\n",
       "      <td>-0.000673</td>\n",
       "    </tr>\n",
       "    <tr>\n",
       "      <th>2</th>\n",
       "      <td>117.0</td>\n",
       "      <td>7.076923</td>\n",
       "      <td>1.846154</td>\n",
       "      <td>7.076923</td>\n",
       "      <td>0.0</td>\n",
       "      <td>0.0</td>\n",
       "      <td>1.0</td>\n",
       "      <td>1.0</td>\n",
       "      <td>1.0</td>\n",
       "      <td>259.384615</td>\n",
       "      <td>-0.076923</td>\n",
       "      <td>7.076923</td>\n",
       "      <td>-0.000287</td>\n",
       "    </tr>\n",
       "    <tr>\n",
       "      <th>3</th>\n",
       "      <td>117.0</td>\n",
       "      <td>8.461538</td>\n",
       "      <td>1.384615</td>\n",
       "      <td>6.153846</td>\n",
       "      <td>0.0</td>\n",
       "      <td>0.0</td>\n",
       "      <td>1.0</td>\n",
       "      <td>1.0</td>\n",
       "      <td>1.0</td>\n",
       "      <td>259.538462</td>\n",
       "      <td>0.076923</td>\n",
       "      <td>8.461538</td>\n",
       "      <td>0.000303</td>\n",
       "    </tr>\n",
       "    <tr>\n",
       "      <th>4</th>\n",
       "      <td>117.0</td>\n",
       "      <td>9.666667</td>\n",
       "      <td>1.666667</td>\n",
       "      <td>4.666667</td>\n",
       "      <td>0.0</td>\n",
       "      <td>0.0</td>\n",
       "      <td>1.0</td>\n",
       "      <td>1.0</td>\n",
       "      <td>1.0</td>\n",
       "      <td>259.000000</td>\n",
       "      <td>0.666667</td>\n",
       "      <td>9.666667</td>\n",
       "      <td>0.002569</td>\n",
       "    </tr>\n",
       "    <tr>\n",
       "      <th>5</th>\n",
       "      <td>117.0</td>\n",
       "      <td>11.142857</td>\n",
       "      <td>2.428571</td>\n",
       "      <td>2.428571</td>\n",
       "      <td>0.0</td>\n",
       "      <td>0.0</td>\n",
       "      <td>1.0</td>\n",
       "      <td>1.0</td>\n",
       "      <td>1.0</td>\n",
       "      <td>259.428571</td>\n",
       "      <td>0.571429</td>\n",
       "      <td>11.142857</td>\n",
       "      <td>0.002187</td>\n",
       "    </tr>\n",
       "    <tr>\n",
       "      <th>6</th>\n",
       "      <td>117.0</td>\n",
       "      <td>9.750000</td>\n",
       "      <td>2.000000</td>\n",
       "      <td>4.250000</td>\n",
       "      <td>0.0</td>\n",
       "      <td>0.0</td>\n",
       "      <td>1.0</td>\n",
       "      <td>1.0</td>\n",
       "      <td>1.0</td>\n",
       "      <td>258.750000</td>\n",
       "      <td>1.000000</td>\n",
       "      <td>9.750000</td>\n",
       "      <td>0.003865</td>\n",
       "    </tr>\n",
       "    <tr>\n",
       "      <th>8</th>\n",
       "      <td>117.0</td>\n",
       "      <td>11.000000</td>\n",
       "      <td>2.000000</td>\n",
       "      <td>3.000000</td>\n",
       "      <td>0.0</td>\n",
       "      <td>0.0</td>\n",
       "      <td>1.0</td>\n",
       "      <td>1.0</td>\n",
       "      <td>1.0</td>\n",
       "      <td>260.000000</td>\n",
       "      <td>-1.000000</td>\n",
       "      <td>11.000000</td>\n",
       "      <td>-0.003846</td>\n",
       "    </tr>\n",
       "    <tr>\n",
       "      <th>9</th>\n",
       "      <td>117.0</td>\n",
       "      <td>9.941176</td>\n",
       "      <td>1.235294</td>\n",
       "      <td>4.823529</td>\n",
       "      <td>0.0</td>\n",
       "      <td>0.0</td>\n",
       "      <td>1.0</td>\n",
       "      <td>1.0</td>\n",
       "      <td>1.0</td>\n",
       "      <td>258.588235</td>\n",
       "      <td>-0.705882</td>\n",
       "      <td>9.941176</td>\n",
       "      <td>-0.002733</td>\n",
       "    </tr>\n",
       "    <tr>\n",
       "      <th>10</th>\n",
       "      <td>117.0</td>\n",
       "      <td>9.833333</td>\n",
       "      <td>1.833333</td>\n",
       "      <td>4.333333</td>\n",
       "      <td>0.0</td>\n",
       "      <td>0.0</td>\n",
       "      <td>1.0</td>\n",
       "      <td>1.0</td>\n",
       "      <td>1.0</td>\n",
       "      <td>259.083333</td>\n",
       "      <td>-0.250000</td>\n",
       "      <td>9.833333</td>\n",
       "      <td>-0.000967</td>\n",
       "    </tr>\n",
       "    <tr>\n",
       "      <th>11</th>\n",
       "      <td>117.0</td>\n",
       "      <td>6.666667</td>\n",
       "      <td>1.250000</td>\n",
       "      <td>8.083333</td>\n",
       "      <td>0.0</td>\n",
       "      <td>0.0</td>\n",
       "      <td>1.0</td>\n",
       "      <td>1.0</td>\n",
       "      <td>1.0</td>\n",
       "      <td>259.416667</td>\n",
       "      <td>-1.083333</td>\n",
       "      <td>6.666667</td>\n",
       "      <td>-0.004179</td>\n",
       "    </tr>\n",
       "    <tr>\n",
       "      <th>12</th>\n",
       "      <td>117.0</td>\n",
       "      <td>6.428571</td>\n",
       "      <td>0.857143</td>\n",
       "      <td>8.714286</td>\n",
       "      <td>0.0</td>\n",
       "      <td>0.0</td>\n",
       "      <td>1.0</td>\n",
       "      <td>1.0</td>\n",
       "      <td>1.0</td>\n",
       "      <td>259.000000</td>\n",
       "      <td>-0.214286</td>\n",
       "      <td>6.428571</td>\n",
       "      <td>-0.000829</td>\n",
       "    </tr>\n",
       "    <tr>\n",
       "      <th>13</th>\n",
       "      <td>117.0</td>\n",
       "      <td>6.000000</td>\n",
       "      <td>1.285714</td>\n",
       "      <td>8.714286</td>\n",
       "      <td>0.0</td>\n",
       "      <td>0.0</td>\n",
       "      <td>1.0</td>\n",
       "      <td>1.0</td>\n",
       "      <td>1.0</td>\n",
       "      <td>259.642857</td>\n",
       "      <td>-0.571429</td>\n",
       "      <td>6.000000</td>\n",
       "      <td>-0.002210</td>\n",
       "    </tr>\n",
       "    <tr>\n",
       "      <th>14</th>\n",
       "      <td>117.0</td>\n",
       "      <td>5.157895</td>\n",
       "      <td>1.105263</td>\n",
       "      <td>9.736842</td>\n",
       "      <td>0.0</td>\n",
       "      <td>0.0</td>\n",
       "      <td>1.0</td>\n",
       "      <td>1.0</td>\n",
       "      <td>1.0</td>\n",
       "      <td>259.000000</td>\n",
       "      <td>0.210526</td>\n",
       "      <td>5.157895</td>\n",
       "      <td>0.000811</td>\n",
       "    </tr>\n",
       "    <tr>\n",
       "      <th>15</th>\n",
       "      <td>117.0</td>\n",
       "      <td>4.050000</td>\n",
       "      <td>0.550000</td>\n",
       "      <td>11.400000</td>\n",
       "      <td>0.0</td>\n",
       "      <td>0.0</td>\n",
       "      <td>1.0</td>\n",
       "      <td>1.0</td>\n",
       "      <td>1.0</td>\n",
       "      <td>273.100000</td>\n",
       "      <td>-0.500000</td>\n",
       "      <td>4.050000</td>\n",
       "      <td>-0.001837</td>\n",
       "    </tr>\n",
       "    <tr>\n",
       "      <th>16</th>\n",
       "      <td>117.0</td>\n",
       "      <td>6.142857</td>\n",
       "      <td>1.428571</td>\n",
       "      <td>8.428571</td>\n",
       "      <td>0.0</td>\n",
       "      <td>0.0</td>\n",
       "      <td>1.0</td>\n",
       "      <td>1.0</td>\n",
       "      <td>1.0</td>\n",
       "      <td>583.785714</td>\n",
       "      <td>0.357143</td>\n",
       "      <td>6.142857</td>\n",
       "      <td>0.000453</td>\n",
       "    </tr>\n",
       "    <tr>\n",
       "      <th>17</th>\n",
       "      <td>117.0</td>\n",
       "      <td>7.785714</td>\n",
       "      <td>2.214286</td>\n",
       "      <td>6.000000</td>\n",
       "      <td>0.0</td>\n",
       "      <td>0.0</td>\n",
       "      <td>1.0</td>\n",
       "      <td>1.0</td>\n",
       "      <td>1.0</td>\n",
       "      <td>603.071429</td>\n",
       "      <td>0.571429</td>\n",
       "      <td>7.785714</td>\n",
       "      <td>0.000849</td>\n",
       "    </tr>\n",
       "    <tr>\n",
       "      <th>18</th>\n",
       "      <td>117.0</td>\n",
       "      <td>7.173913</td>\n",
       "      <td>2.086957</td>\n",
       "      <td>6.739130</td>\n",
       "      <td>0.0</td>\n",
       "      <td>0.0</td>\n",
       "      <td>1.0</td>\n",
       "      <td>1.0</td>\n",
       "      <td>1.0</td>\n",
       "      <td>735.173913</td>\n",
       "      <td>0.652174</td>\n",
       "      <td>7.173913</td>\n",
       "      <td>0.001380</td>\n",
       "    </tr>\n",
       "    <tr>\n",
       "      <th>19</th>\n",
       "      <td>117.0</td>\n",
       "      <td>6.913043</td>\n",
       "      <td>2.565217</td>\n",
       "      <td>6.521739</td>\n",
       "      <td>0.0</td>\n",
       "      <td>0.0</td>\n",
       "      <td>1.0</td>\n",
       "      <td>1.0</td>\n",
       "      <td>1.0</td>\n",
       "      <td>277.260870</td>\n",
       "      <td>0.000000</td>\n",
       "      <td>6.913043</td>\n",
       "      <td>-0.000214</td>\n",
       "    </tr>\n",
       "    <tr>\n",
       "      <th>20</th>\n",
       "      <td>117.0</td>\n",
       "      <td>8.680000</td>\n",
       "      <td>1.760000</td>\n",
       "      <td>5.560000</td>\n",
       "      <td>0.0</td>\n",
       "      <td>0.0</td>\n",
       "      <td>1.0</td>\n",
       "      <td>1.0</td>\n",
       "      <td>1.0</td>\n",
       "      <td>273.360000</td>\n",
       "      <td>0.480000</td>\n",
       "      <td>8.680000</td>\n",
       "      <td>0.001726</td>\n",
       "    </tr>\n",
       "    <tr>\n",
       "      <th>21</th>\n",
       "      <td>117.0</td>\n",
       "      <td>6.562500</td>\n",
       "      <td>1.843750</td>\n",
       "      <td>7.593750</td>\n",
       "      <td>0.0</td>\n",
       "      <td>0.0</td>\n",
       "      <td>1.0</td>\n",
       "      <td>1.0</td>\n",
       "      <td>1.0</td>\n",
       "      <td>259.500000</td>\n",
       "      <td>-0.156250</td>\n",
       "      <td>6.562500</td>\n",
       "      <td>-0.000596</td>\n",
       "    </tr>\n",
       "    <tr>\n",
       "      <th>22</th>\n",
       "      <td>117.0</td>\n",
       "      <td>7.000000</td>\n",
       "      <td>1.320000</td>\n",
       "      <td>7.680000</td>\n",
       "      <td>0.0</td>\n",
       "      <td>0.0</td>\n",
       "      <td>1.0</td>\n",
       "      <td>1.0</td>\n",
       "      <td>1.0</td>\n",
       "      <td>258.440000</td>\n",
       "      <td>0.280000</td>\n",
       "      <td>7.000000</td>\n",
       "      <td>0.001080</td>\n",
       "    </tr>\n",
       "    <tr>\n",
       "      <th>23</th>\n",
       "      <td>117.0</td>\n",
       "      <td>8.760000</td>\n",
       "      <td>1.680000</td>\n",
       "      <td>5.560000</td>\n",
       "      <td>0.0</td>\n",
       "      <td>0.0</td>\n",
       "      <td>1.0</td>\n",
       "      <td>1.0</td>\n",
       "      <td>1.0</td>\n",
       "      <td>281.208333</td>\n",
       "      <td>0.083333</td>\n",
       "      <td>8.760000</td>\n",
       "      <td>0.000105</td>\n",
       "    </tr>\n",
       "  </tbody>\n",
       "</table>\n",
       "</div>"
      ],
      "text/plain": [
       "      station_id  num_bikes_available  num_bikes_disabled  \\\n",
       "hour                                                        \n",
       "0          117.0             8.035714            1.500000   \n",
       "1          117.0             7.764706            1.352941   \n",
       "2          117.0             7.076923            1.846154   \n",
       "3          117.0             8.461538            1.384615   \n",
       "4          117.0             9.666667            1.666667   \n",
       "5          117.0            11.142857            2.428571   \n",
       "6          117.0             9.750000            2.000000   \n",
       "8          117.0            11.000000            2.000000   \n",
       "9          117.0             9.941176            1.235294   \n",
       "10         117.0             9.833333            1.833333   \n",
       "11         117.0             6.666667            1.250000   \n",
       "12         117.0             6.428571            0.857143   \n",
       "13         117.0             6.000000            1.285714   \n",
       "14         117.0             5.157895            1.105263   \n",
       "15         117.0             4.050000            0.550000   \n",
       "16         117.0             6.142857            1.428571   \n",
       "17         117.0             7.785714            2.214286   \n",
       "18         117.0             7.173913            2.086957   \n",
       "19         117.0             6.913043            2.565217   \n",
       "20         117.0             8.680000            1.760000   \n",
       "21         117.0             6.562500            1.843750   \n",
       "22         117.0             7.000000            1.320000   \n",
       "23         117.0             8.760000            1.680000   \n",
       "\n",
       "      num_docks_available  num_docks_disabled  is_charging_station  \\\n",
       "hour                                                                 \n",
       "0                6.464286                 0.0                  0.0   \n",
       "1                6.882353                 0.0                  0.0   \n",
       "2                7.076923                 0.0                  0.0   \n",
       "3                6.153846                 0.0                  0.0   \n",
       "4                4.666667                 0.0                  0.0   \n",
       "5                2.428571                 0.0                  0.0   \n",
       "6                4.250000                 0.0                  0.0   \n",
       "8                3.000000                 0.0                  0.0   \n",
       "9                4.823529                 0.0                  0.0   \n",
       "10               4.333333                 0.0                  0.0   \n",
       "11               8.083333                 0.0                  0.0   \n",
       "12               8.714286                 0.0                  0.0   \n",
       "13               8.714286                 0.0                  0.0   \n",
       "14               9.736842                 0.0                  0.0   \n",
       "15              11.400000                 0.0                  0.0   \n",
       "16               8.428571                 0.0                  0.0   \n",
       "17               6.000000                 0.0                  0.0   \n",
       "18               6.739130                 0.0                  0.0   \n",
       "19               6.521739                 0.0                  0.0   \n",
       "20               5.560000                 0.0                  0.0   \n",
       "21               7.593750                 0.0                  0.0   \n",
       "22               7.680000                 0.0                  0.0   \n",
       "23               5.560000                 0.0                  0.0   \n",
       "\n",
       "      is_installed  is_renting  is_returning  time_since_prev_report  \\\n",
       "hour                                                                   \n",
       "0              1.0         1.0           1.0              260.750000   \n",
       "1              1.0         1.0           1.0              259.235294   \n",
       "2              1.0         1.0           1.0              259.384615   \n",
       "3              1.0         1.0           1.0              259.538462   \n",
       "4              1.0         1.0           1.0              259.000000   \n",
       "5              1.0         1.0           1.0              259.428571   \n",
       "6              1.0         1.0           1.0              258.750000   \n",
       "8              1.0         1.0           1.0              260.000000   \n",
       "9              1.0         1.0           1.0              258.588235   \n",
       "10             1.0         1.0           1.0              259.083333   \n",
       "11             1.0         1.0           1.0              259.416667   \n",
       "12             1.0         1.0           1.0              259.000000   \n",
       "13             1.0         1.0           1.0              259.642857   \n",
       "14             1.0         1.0           1.0              259.000000   \n",
       "15             1.0         1.0           1.0              273.100000   \n",
       "16             1.0         1.0           1.0              583.785714   \n",
       "17             1.0         1.0           1.0              603.071429   \n",
       "18             1.0         1.0           1.0              735.173913   \n",
       "19             1.0         1.0           1.0              277.260870   \n",
       "20             1.0         1.0           1.0              273.360000   \n",
       "21             1.0         1.0           1.0              259.500000   \n",
       "22             1.0         1.0           1.0              258.440000   \n",
       "23             1.0         1.0           1.0              281.208333   \n",
       "\n",
       "      available_bikes_delta          y  bikes_per_second  \n",
       "hour                                                      \n",
       "0                  0.285714   8.035714          0.001116  \n",
       "1                 -0.176471   7.764706         -0.000673  \n",
       "2                 -0.076923   7.076923         -0.000287  \n",
       "3                  0.076923   8.461538          0.000303  \n",
       "4                  0.666667   9.666667          0.002569  \n",
       "5                  0.571429  11.142857          0.002187  \n",
       "6                  1.000000   9.750000          0.003865  \n",
       "8                 -1.000000  11.000000         -0.003846  \n",
       "9                 -0.705882   9.941176         -0.002733  \n",
       "10                -0.250000   9.833333         -0.000967  \n",
       "11                -1.083333   6.666667         -0.004179  \n",
       "12                -0.214286   6.428571         -0.000829  \n",
       "13                -0.571429   6.000000         -0.002210  \n",
       "14                 0.210526   5.157895          0.000811  \n",
       "15                -0.500000   4.050000         -0.001837  \n",
       "16                 0.357143   6.142857          0.000453  \n",
       "17                 0.571429   7.785714          0.000849  \n",
       "18                 0.652174   7.173913          0.001380  \n",
       "19                 0.000000   6.913043         -0.000214  \n",
       "20                 0.480000   8.680000          0.001726  \n",
       "21                -0.156250   6.562500         -0.000596  \n",
       "22                 0.280000   7.000000          0.001080  \n",
       "23                 0.083333   8.760000          0.000105  "
      ]
     },
     "execution_count": 11,
     "metadata": {},
     "output_type": "execute_result"
    }
   ],
   "source": [
    "df.loc[(df.station_id == 117) & (df.available_bikes_delta != 0)].groupby(\"hour\").mean()"
   ]
  },
  {
   "cell_type": "code",
   "execution_count": 15,
   "id": "a081c3c1",
   "metadata": {},
   "outputs": [
    {
     "data": {
      "text/plain": [
       "0.08319908892252435"
      ]
     },
     "execution_count": 15,
     "metadata": {},
     "output_type": "execute_result"
    }
   ],
   "source": [
    "len(df[df.num_bikes_available == 0])/ len (df)"
   ]
  },
  {
   "cell_type": "code",
   "execution_count": 16,
   "id": "eb3534ed",
   "metadata": {},
   "outputs": [
    {
     "data": {
      "text/plain": [
       "0.09238286668191618"
      ]
     },
     "execution_count": 16,
     "metadata": {},
     "output_type": "execute_result"
    }
   ],
   "source": [
    "len(df[df.num_bikes_available == 1])/ len (df)"
   ]
  },
  {
   "cell_type": "code",
   "execution_count": null,
   "id": "639fc32e",
   "metadata": {},
   "outputs": [],
   "source": []
  }
 ],
 "metadata": {
  "kernelspec": {
   "display_name": "Python 3.10.6 ('research-bicisba-A0HrnKHR-py3.10')",
   "language": "python",
   "name": "python3"
  },
  "language_info": {
   "codemirror_mode": {
    "name": "ipython",
    "version": 3
   },
   "file_extension": ".py",
   "mimetype": "text/x-python",
   "name": "python",
   "nbconvert_exporter": "python",
   "pygments_lexer": "ipython3",
   "version": "3.10.6"
  },
  "vscode": {
   "interpreter": {
    "hash": "116d2b1e2657b354618eb157580267b90c673be9d2a02c06ea05a73a2857e78d"
   }
  },
  "widgets": {
   "application/vnd.jupyter.widget-state+json": {
    "state": {
     "027590190f6d4114bdbaaf6288ceb8e6": {
      "model_module": "@jupyter-widgets/base",
      "model_module_version": "1.2.0",
      "model_name": "LayoutModel",
      "state": {}
     },
     "076ea8c350c64cce8015a48c4d8edfbb": {
      "model_module": "@jupyter-widgets/controls",
      "model_module_version": "1.5.0",
      "model_name": "HTMLModel",
      "state": {
       "layout": "IPY_MODEL_3bf9310826e142ceb546ad68f0fca8c1",
       "style": "IPY_MODEL_621f4e2f1a1142ceaa0dbf5369d42c37",
       "value": " 11497/11497 [01:40&lt;00:00, 120.21it/s]"
      }
     },
     "07d8e94f7d564c28acdf97541e47b907": {
      "model_module": "@jupyter-widgets/controls",
      "model_module_version": "1.5.0",
      "model_name": "DescriptionStyleModel",
      "state": {
       "description_width": ""
      }
     },
     "0ad84e6f021447a4baa91b90283fa13f": {
      "model_module": "@jupyter-widgets/controls",
      "model_module_version": "1.5.0",
      "model_name": "HTMLModel",
      "state": {
       "layout": "IPY_MODEL_dad916fa89b149d59dabeafac7bd6124",
       "style": "IPY_MODEL_e83794e68c76433ca302d7bf3a32da7c",
       "value": " 0/11497 [00:00&lt;?, ?it/s]"
      }
     },
     "118fc59d762545fc84bf84a2a6b26857": {
      "model_module": "@jupyter-widgets/controls",
      "model_module_version": "1.5.0",
      "model_name": "ProgressStyleModel",
      "state": {
       "description_width": ""
      }
     },
     "13aea5ca2d9f4f0eb14fef7757a71275": {
      "model_module": "@jupyter-widgets/base",
      "model_module_version": "1.2.0",
      "model_name": "LayoutModel",
      "state": {}
     },
     "14791fff9f594c5b84fa80762a2c9289": {
      "model_module": "@jupyter-widgets/controls",
      "model_module_version": "1.5.0",
      "model_name": "HBoxModel",
      "state": {
       "children": [
        "IPY_MODEL_32252303915142d4bbbd50d966d81af9",
        "IPY_MODEL_326a0c3cddea4914bc402657cb8c8646",
        "IPY_MODEL_076ea8c350c64cce8015a48c4d8edfbb"
       ],
       "layout": "IPY_MODEL_f07e354abba64eca9cc99046809b9b30"
      }
     },
     "19cca0b7dbfd4487b3a69a79e910a656": {
      "model_module": "@jupyter-widgets/controls",
      "model_module_version": "1.5.0",
      "model_name": "DescriptionStyleModel",
      "state": {
       "description_width": ""
      }
     },
     "20ae1fbd47f740b9830904f8d3af4ede": {
      "model_module": "@jupyter-widgets/controls",
      "model_module_version": "1.5.0",
      "model_name": "DescriptionStyleModel",
      "state": {
       "description_width": ""
      }
     },
     "23fd3402b61d425a941e9d24093c6fb5": {
      "model_module": "@jupyter-widgets/base",
      "model_module_version": "1.2.0",
      "model_name": "LayoutModel",
      "state": {}
     },
     "2877013af192444398e1c2e1c2f3e292": {
      "model_module": "@jupyter-widgets/controls",
      "model_module_version": "1.5.0",
      "model_name": "DescriptionStyleModel",
      "state": {
       "description_width": ""
      }
     },
     "29a069258395458b96096fc853247472": {
      "model_module": "@jupyter-widgets/controls",
      "model_module_version": "1.5.0",
      "model_name": "HTMLModel",
      "state": {
       "layout": "IPY_MODEL_b490438ec24541b4b6489fab700c5a86",
       "style": "IPY_MODEL_2877013af192444398e1c2e1c2f3e292",
       "value": " 11497/11497 [01:30&lt;00:00, 154.96it/s]"
      }
     },
     "2ec4e32d0a6347ab88e796fe739ce837": {
      "model_module": "@jupyter-widgets/base",
      "model_module_version": "1.2.0",
      "model_name": "LayoutModel",
      "state": {}
     },
     "32252303915142d4bbbd50d966d81af9": {
      "model_module": "@jupyter-widgets/controls",
      "model_module_version": "1.5.0",
      "model_name": "HTMLModel",
      "state": {
       "layout": "IPY_MODEL_5d5a3157f2604eb5a72e0d97abcd76e3",
       "style": "IPY_MODEL_6d1e43c1e53440d48f8918fac702c24e",
       "value": "100%"
      }
     },
     "326a0c3cddea4914bc402657cb8c8646": {
      "model_module": "@jupyter-widgets/controls",
      "model_module_version": "1.5.0",
      "model_name": "FloatProgressModel",
      "state": {
       "bar_style": "success",
       "layout": "IPY_MODEL_81ecf400b2e749258a192e89004642d6",
       "max": 11497,
       "style": "IPY_MODEL_49d88cc97c8e40a381960d247d5d533f",
       "value": 11497
      }
     },
     "3470bb6268794e83a54ad81605794099": {
      "model_module": "@jupyter-widgets/base",
      "model_module_version": "1.2.0",
      "model_name": "LayoutModel",
      "state": {}
     },
     "34a8d9c8ed364729a338410326296cea": {
      "model_module": "@jupyter-widgets/base",
      "model_module_version": "1.2.0",
      "model_name": "LayoutModel",
      "state": {}
     },
     "38a26a2d4f184f46a6cbb6113904078d": {
      "model_module": "@jupyter-widgets/base",
      "model_module_version": "1.2.0",
      "model_name": "LayoutModel",
      "state": {}
     },
     "3bf9310826e142ceb546ad68f0fca8c1": {
      "model_module": "@jupyter-widgets/base",
      "model_module_version": "1.2.0",
      "model_name": "LayoutModel",
      "state": {}
     },
     "420de258f8354a44869b1d9ca552ca74": {
      "model_module": "@jupyter-widgets/controls",
      "model_module_version": "1.5.0",
      "model_name": "FloatProgressModel",
      "state": {
       "bar_style": "success",
       "layout": "IPY_MODEL_922fe78e17a34399a80fc88176705228",
       "max": 11497,
       "style": "IPY_MODEL_cf6d23c582e8485d93a12d306b0fa97f",
       "value": 11497
      }
     },
     "45005e7a0e1a4142bd04347d61e6ed17": {
      "model_module": "@jupyter-widgets/controls",
      "model_module_version": "1.5.0",
      "model_name": "DescriptionStyleModel",
      "state": {
       "description_width": ""
      }
     },
     "49d88cc97c8e40a381960d247d5d533f": {
      "model_module": "@jupyter-widgets/controls",
      "model_module_version": "1.5.0",
      "model_name": "ProgressStyleModel",
      "state": {
       "description_width": ""
      }
     },
     "4d4e624345ee43e89b32c16de0214adc": {
      "model_module": "@jupyter-widgets/controls",
      "model_module_version": "1.5.0",
      "model_name": "HBoxModel",
      "state": {
       "children": [
        "IPY_MODEL_5da85ca05ba5475f82e3b824a786ae80",
        "IPY_MODEL_bb0a410bbbf1428cb94d1c9f871f638c",
        "IPY_MODEL_ce1abdef58f14334929941843687f244"
       ],
       "layout": "IPY_MODEL_38a26a2d4f184f46a6cbb6113904078d"
      }
     },
     "4e5d123e602a473aa5b16d74ecf24179": {
      "model_module": "@jupyter-widgets/base",
      "model_module_version": "1.2.0",
      "model_name": "LayoutModel",
      "state": {}
     },
     "5237338e8eca491fb06be708c0e42f27": {
      "model_module": "@jupyter-widgets/controls",
      "model_module_version": "1.5.0",
      "model_name": "HTMLModel",
      "state": {
       "layout": "IPY_MODEL_e63d70b01d1f46948130c57329352500",
       "style": "IPY_MODEL_7c60dbe0639c468ba396d7eb009aa032",
       "value": "100%"
      }
     },
     "5292fba9677b49129b3e71609fdbce74": {
      "model_module": "@jupyter-widgets/controls",
      "model_module_version": "1.5.0",
      "model_name": "HBoxModel",
      "state": {
       "children": [
        "IPY_MODEL_c370fbe9b90844df844127f2f47d8c37",
        "IPY_MODEL_ae3ae907e43f4ba59927183711582116",
        "IPY_MODEL_0ad84e6f021447a4baa91b90283fa13f"
       ],
       "layout": "IPY_MODEL_f1b06fa1895b442a946a0364f156bd41"
      }
     },
     "54d230db08294f6d9c4cdec2b37f4675": {
      "model_module": "@jupyter-widgets/base",
      "model_module_version": "1.2.0",
      "model_name": "LayoutModel",
      "state": {}
     },
     "58707fd580884c54af663b5279b51072": {
      "model_module": "@jupyter-widgets/base",
      "model_module_version": "1.2.0",
      "model_name": "LayoutModel",
      "state": {}
     },
     "5d5a3157f2604eb5a72e0d97abcd76e3": {
      "model_module": "@jupyter-widgets/base",
      "model_module_version": "1.2.0",
      "model_name": "LayoutModel",
      "state": {}
     },
     "5da85ca05ba5475f82e3b824a786ae80": {
      "model_module": "@jupyter-widgets/controls",
      "model_module_version": "1.5.0",
      "model_name": "HTMLModel",
      "state": {
       "layout": "IPY_MODEL_ac96c05c28084130a52bab90ac54ee31",
       "style": "IPY_MODEL_19cca0b7dbfd4487b3a69a79e910a656",
       "value": "100%"
      }
     },
     "621f4e2f1a1142ceaa0dbf5369d42c37": {
      "model_module": "@jupyter-widgets/controls",
      "model_module_version": "1.5.0",
      "model_name": "DescriptionStyleModel",
      "state": {
       "description_width": ""
      }
     },
     "6d1e43c1e53440d48f8918fac702c24e": {
      "model_module": "@jupyter-widgets/controls",
      "model_module_version": "1.5.0",
      "model_name": "DescriptionStyleModel",
      "state": {
       "description_width": ""
      }
     },
     "6dd090873c2e405f8a66f4d903196cef": {
      "model_module": "@jupyter-widgets/controls",
      "model_module_version": "1.5.0",
      "model_name": "HBoxModel",
      "state": {
       "children": [
        "IPY_MODEL_5237338e8eca491fb06be708c0e42f27",
        "IPY_MODEL_420de258f8354a44869b1d9ca552ca74",
        "IPY_MODEL_9e805fcdad4b47e39d0dc7d60fc0e171"
       ],
       "layout": "IPY_MODEL_2ec4e32d0a6347ab88e796fe739ce837"
      }
     },
     "751c8eb62cb4407393f8ca86fb813120": {
      "model_module": "@jupyter-widgets/controls",
      "model_module_version": "1.5.0",
      "model_name": "HTMLModel",
      "state": {
       "layout": "IPY_MODEL_d051525079d24595a12caa60776d1e59",
       "style": "IPY_MODEL_45005e7a0e1a4142bd04347d61e6ed17",
       "value": "  3%"
      }
     },
     "7c60dbe0639c468ba396d7eb009aa032": {
      "model_module": "@jupyter-widgets/controls",
      "model_module_version": "1.5.0",
      "model_name": "DescriptionStyleModel",
      "state": {
       "description_width": ""
      }
     },
     "7d220f0dd7304ed7981132ef95603c89": {
      "model_module": "@jupyter-widgets/controls",
      "model_module_version": "1.5.0",
      "model_name": "ProgressStyleModel",
      "state": {
       "description_width": ""
      }
     },
     "81ecf400b2e749258a192e89004642d6": {
      "model_module": "@jupyter-widgets/base",
      "model_module_version": "1.2.0",
      "model_name": "LayoutModel",
      "state": {}
     },
     "8457df779bc54789a4928b88e2038b87": {
      "model_module": "@jupyter-widgets/controls",
      "model_module_version": "1.5.0",
      "model_name": "DescriptionStyleModel",
      "state": {
       "description_width": ""
      }
     },
     "8b88480fac814d30880e78c85034cb88": {
      "model_module": "@jupyter-widgets/base",
      "model_module_version": "1.2.0",
      "model_name": "LayoutModel",
      "state": {}
     },
     "922fe78e17a34399a80fc88176705228": {
      "model_module": "@jupyter-widgets/base",
      "model_module_version": "1.2.0",
      "model_name": "LayoutModel",
      "state": {}
     },
     "9e805fcdad4b47e39d0dc7d60fc0e171": {
      "model_module": "@jupyter-widgets/controls",
      "model_module_version": "1.5.0",
      "model_name": "HTMLModel",
      "state": {
       "layout": "IPY_MODEL_34a8d9c8ed364729a338410326296cea",
       "style": "IPY_MODEL_20ae1fbd47f740b9830904f8d3af4ede",
       "value": " 11497/11497 [01:10&lt;00:00, 171.14it/s]"
      }
     },
     "a775d0e5c91b436ab899c2e8fa530131": {
      "model_module": "@jupyter-widgets/controls",
      "model_module_version": "1.5.0",
      "model_name": "FloatProgressModel",
      "state": {
       "bar_style": "danger",
       "layout": "IPY_MODEL_23fd3402b61d425a941e9d24093c6fb5",
       "max": 11497,
       "style": "IPY_MODEL_e2584730e30d4c6d87f6e83fce4ef97e",
       "value": 288
      }
     },
     "ac96c05c28084130a52bab90ac54ee31": {
      "model_module": "@jupyter-widgets/base",
      "model_module_version": "1.2.0",
      "model_name": "LayoutModel",
      "state": {}
     },
     "acafbacc851f4f438821c51a6fddd512": {
      "model_module": "@jupyter-widgets/controls",
      "model_module_version": "1.5.0",
      "model_name": "ProgressStyleModel",
      "state": {
       "description_width": ""
      }
     },
     "ae3ae907e43f4ba59927183711582116": {
      "model_module": "@jupyter-widgets/controls",
      "model_module_version": "1.5.0",
      "model_name": "FloatProgressModel",
      "state": {
       "bar_style": "danger",
       "layout": "IPY_MODEL_f679b7175a174fb5828f366a60c227cb",
       "max": 11497,
       "style": "IPY_MODEL_118fc59d762545fc84bf84a2a6b26857"
      }
     },
     "b490438ec24541b4b6489fab700c5a86": {
      "model_module": "@jupyter-widgets/base",
      "model_module_version": "1.2.0",
      "model_name": "LayoutModel",
      "state": {}
     },
     "bb0a410bbbf1428cb94d1c9f871f638c": {
      "model_module": "@jupyter-widgets/controls",
      "model_module_version": "1.5.0",
      "model_name": "FloatProgressModel",
      "state": {
       "bar_style": "success",
       "layout": "IPY_MODEL_8b88480fac814d30880e78c85034cb88",
       "max": 11497,
       "style": "IPY_MODEL_7d220f0dd7304ed7981132ef95603c89",
       "value": 11497
      }
     },
     "bb10ba2bc5d64fa8addced2899c51ada": {
      "model_module": "@jupyter-widgets/controls",
      "model_module_version": "1.5.0",
      "model_name": "HBoxModel",
      "state": {
       "children": [
        "IPY_MODEL_bee1dce4c389405c886e254176b1df45",
        "IPY_MODEL_bcacd599713c4d188f30b36c0b3ae3e1",
        "IPY_MODEL_29a069258395458b96096fc853247472"
       ],
       "layout": "IPY_MODEL_3470bb6268794e83a54ad81605794099"
      }
     },
     "bcacd599713c4d188f30b36c0b3ae3e1": {
      "model_module": "@jupyter-widgets/controls",
      "model_module_version": "1.5.0",
      "model_name": "FloatProgressModel",
      "state": {
       "bar_style": "success",
       "layout": "IPY_MODEL_58707fd580884c54af663b5279b51072",
       "max": 11497,
       "style": "IPY_MODEL_acafbacc851f4f438821c51a6fddd512",
       "value": 11497
      }
     },
     "bccc24cd8cc54e4a82d1266c82e88c0b": {
      "model_module": "@jupyter-widgets/controls",
      "model_module_version": "1.5.0",
      "model_name": "DescriptionStyleModel",
      "state": {
       "description_width": ""
      }
     },
     "bee1dce4c389405c886e254176b1df45": {
      "model_module": "@jupyter-widgets/controls",
      "model_module_version": "1.5.0",
      "model_name": "HTMLModel",
      "state": {
       "layout": "IPY_MODEL_027590190f6d4114bdbaaf6288ceb8e6",
       "style": "IPY_MODEL_f1c8b721628c43f59c3274a9818fa8ac",
       "value": "100%"
      }
     },
     "c370fbe9b90844df844127f2f47d8c37": {
      "model_module": "@jupyter-widgets/controls",
      "model_module_version": "1.5.0",
      "model_name": "HTMLModel",
      "state": {
       "layout": "IPY_MODEL_13aea5ca2d9f4f0eb14fef7757a71275",
       "style": "IPY_MODEL_bccc24cd8cc54e4a82d1266c82e88c0b",
       "value": "  0%"
      }
     },
     "ce1abdef58f14334929941843687f244": {
      "model_module": "@jupyter-widgets/controls",
      "model_module_version": "1.5.0",
      "model_name": "HTMLModel",
      "state": {
       "layout": "IPY_MODEL_eab71b1532744613b00499c9f295f768",
       "style": "IPY_MODEL_8457df779bc54789a4928b88e2038b87",
       "value": " 11497/11497 [01:21&lt;00:00, 155.73it/s]"
      }
     },
     "cf6d23c582e8485d93a12d306b0fa97f": {
      "model_module": "@jupyter-widgets/controls",
      "model_module_version": "1.5.0",
      "model_name": "ProgressStyleModel",
      "state": {
       "description_width": ""
      }
     },
     "d051525079d24595a12caa60776d1e59": {
      "model_module": "@jupyter-widgets/base",
      "model_module_version": "1.2.0",
      "model_name": "LayoutModel",
      "state": {}
     },
     "dad916fa89b149d59dabeafac7bd6124": {
      "model_module": "@jupyter-widgets/base",
      "model_module_version": "1.2.0",
      "model_name": "LayoutModel",
      "state": {}
     },
     "dd8d30899136405199c91f00479136f6": {
      "model_module": "@jupyter-widgets/controls",
      "model_module_version": "1.5.0",
      "model_name": "HTMLModel",
      "state": {
       "layout": "IPY_MODEL_54d230db08294f6d9c4cdec2b37f4675",
       "style": "IPY_MODEL_07d8e94f7d564c28acdf97541e47b907",
       "value": " 288/11497 [00:03&lt;01:56, 96.46it/s]"
      }
     },
     "e2584730e30d4c6d87f6e83fce4ef97e": {
      "model_module": "@jupyter-widgets/controls",
      "model_module_version": "1.5.0",
      "model_name": "ProgressStyleModel",
      "state": {
       "description_width": ""
      }
     },
     "e63d70b01d1f46948130c57329352500": {
      "model_module": "@jupyter-widgets/base",
      "model_module_version": "1.2.0",
      "model_name": "LayoutModel",
      "state": {}
     },
     "e83794e68c76433ca302d7bf3a32da7c": {
      "model_module": "@jupyter-widgets/controls",
      "model_module_version": "1.5.0",
      "model_name": "DescriptionStyleModel",
      "state": {
       "description_width": ""
      }
     },
     "eab71b1532744613b00499c9f295f768": {
      "model_module": "@jupyter-widgets/base",
      "model_module_version": "1.2.0",
      "model_name": "LayoutModel",
      "state": {}
     },
     "f07e354abba64eca9cc99046809b9b30": {
      "model_module": "@jupyter-widgets/base",
      "model_module_version": "1.2.0",
      "model_name": "LayoutModel",
      "state": {}
     },
     "f1b06fa1895b442a946a0364f156bd41": {
      "model_module": "@jupyter-widgets/base",
      "model_module_version": "1.2.0",
      "model_name": "LayoutModel",
      "state": {}
     },
     "f1c8b721628c43f59c3274a9818fa8ac": {
      "model_module": "@jupyter-widgets/controls",
      "model_module_version": "1.5.0",
      "model_name": "DescriptionStyleModel",
      "state": {
       "description_width": ""
      }
     },
     "f51e59e571c140f58318cb51bd0a548a": {
      "model_module": "@jupyter-widgets/controls",
      "model_module_version": "1.5.0",
      "model_name": "HBoxModel",
      "state": {
       "children": [
        "IPY_MODEL_751c8eb62cb4407393f8ca86fb813120",
        "IPY_MODEL_a775d0e5c91b436ab899c2e8fa530131",
        "IPY_MODEL_dd8d30899136405199c91f00479136f6"
       ],
       "layout": "IPY_MODEL_4e5d123e602a473aa5b16d74ecf24179"
      }
     },
     "f679b7175a174fb5828f366a60c227cb": {
      "model_module": "@jupyter-widgets/base",
      "model_module_version": "1.2.0",
      "model_name": "LayoutModel",
      "state": {}
     }
    },
    "version_major": 2,
    "version_minor": 0
   }
  }
 },
 "nbformat": 4,
 "nbformat_minor": 5
}
