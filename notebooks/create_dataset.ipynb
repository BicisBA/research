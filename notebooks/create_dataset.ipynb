{
 "cells": [
  {
   "cell_type": "code",
   "execution_count": 75,
   "metadata": {},
   "outputs": [],
   "source": [
    "from models.s3 import S3Client\n",
    "from models.availability_model_trainer import AvailabilityModelTrainer\n",
    "\n",
    "from io import BytesIO\n",
    "import joblib\n",
    "import duckdb\n",
    "import pyarrow.dataset as ds\n",
    "import pandas as pd\n",
    "import tempfile\n",
    "import os"
   ]
  },
  {
   "cell_type": "code",
   "execution_count": 2,
   "metadata": {},
   "outputs": [],
   "source": [
    "s3_cli = S3Client()"
   ]
  },
  {
   "cell_type": "code",
   "execution_count": 60,
   "metadata": {},
   "outputs": [],
   "source": [
    "CURRENT_DATE = \"2022/09/10\"\n",
    "TRAINING_PERIOD = 21\n",
    "DATES = pd.date_range(end=CURRENT_DATE, periods=TRAINING_PERIOD)"
   ]
  },
  {
   "cell_type": "code",
   "execution_count": 61,
   "metadata": {},
   "outputs": [
    {
     "data": {
      "text/plain": [
       "'silver/status/year=2022/month=8/day=22'"
      ]
     },
     "execution_count": 61,
     "metadata": {},
     "output_type": "execute_result"
    }
   ],
   "source": [
    "\"silver/status/\"+DATES[1].strftime('year=%Y/month=%-m/day=%-d')"
   ]
  },
  {
   "cell_type": "code",
   "execution_count": null,
   "metadata": {},
   "outputs": [],
   "source": [
    "temp_dir = tempfile.TemporaryDirectory()\n",
    "\n",
    "for day in DATES:\n",
    "    day_keys= s3_cli.client.Bucket(\"frame\").objects.filter(Prefix=\"silver/status/\"+day.strftime('year=%Y/month=%-m/day=%-d'))\n",
    "    for parquet_object in day_keys:\n",
    "        parquet_temp_path = temp_dir.name + \"/\" + parquet_object.key\n",
    "        os.makedirs(os.path.dirname(parquet_temp_path), exist_ok = True)\n",
    "        s3_cli.client.Bucket(\"frame\").download_file(Key=parquet_object.key, Filename=parquet_temp_path)\n"
   ]
  },
  {
   "cell_type": "code",
   "execution_count": 65,
   "metadata": {},
   "outputs": [],
   "source": [
    "dataset = ds.dataset(temp_dir.name + \"/silver/status\", format=\"parquet\", partitioning=\"hive\")\n",
    "con = duckdb.connect()\n",
    "con = con.register(\"status\", dataset)"
   ]
  },
  {
   "cell_type": "markdown",
   "metadata": {},
   "source": [
    "Hay mas de 6M de registros por dia para todas las estaciones, se vuelve intratable para un periodo largo de tiempo. Entonces entrenamos estacion por estacion."
   ]
  },
  {
   "cell_type": "code",
   "execution_count": 66,
   "metadata": {},
   "outputs": [],
   "source": [
    "station_ids = con.execute(\"select distinct(station_id) from status\").df()[\"station_id\"].values"
   ]
  },
  {
   "cell_type": "code",
   "execution_count": 77,
   "metadata": {},
   "outputs": [],
   "source": [
    "avail_model_trainer = AvailabilityModelTrainer()\n",
    "for station_id in station_ids[:3]:\n",
    "    dfs_to_concat = []\n",
    "    for i in range(1,16):\n",
    "        auxdf = con.execute(\n",
    "            f\"\"\"\n",
    "            select\n",
    "                hour,\n",
    "                dayofweek(make_timestamp(year, month, day, hour, minute, 0.0)) as dow,\n",
    "                num_bikes_available,\n",
    "                num_bikes_disabled,\n",
    "                num_docks_available,\n",
    "                num_docks_disabled,\n",
    "                minute(lead(make_timestamp(year, month, day, hour, minute, 0.0), {i}) over (\n",
    "                    partition by station_id\n",
    "                    order by make_timestamp(year, month, day, hour, minute, 0.0) asc\n",
    "                ) - make_timestamp(year, month, day, hour, minute, 0.0))  as minutes_bt_check,\n",
    "                lead(num_bikes_available, {i}) over (\n",
    "                    partition by station_id\n",
    "                    order by make_timestamp(year, month, day, hour, minute, 0.0) asc\n",
    "                ) as bikes_available,\n",
    "            from\n",
    "                status\n",
    "            where\n",
    "                station_id = {station_id} and\n",
    "                status = 'IN_SERVICE'\n",
    "            \"\"\"\n",
    "        ).df()\n",
    "        dfs_to_concat.append(auxdf)\n",
    "    mins_df = pd.concat(dfs_to_concat)\n",
    "    del dfs_to_concat\n",
    "    mins_df[\"bikes_a\"] = (mins_df[\"bikes_available\"]>0).astype(int)\n",
    "    avail_model_trainer.train_station(station_id, mins_df.dropna())"
   ]
  },
  {
   "cell_type": "code",
   "execution_count": 78,
   "metadata": {},
   "outputs": [
    {
     "name": "stderr",
     "output_type": "stream",
     "text": [
      "/home/dml/.cache/pypoetry/virtualenvs/research-bicisba-A0HrnKHR-py3.10/lib/python3.10/site-packages/urllib3/connectionpool.py:1045: InsecureRequestWarning: Unverified HTTPS request is being made to host 'minio.crossnox.dev'. Adding certificate verification is strongly advised. See: https://urllib3.readthedocs.io/en/1.26.x/advanced-usage.html#ssl-warnings\n",
      "  warnings.warn(\n",
      "/home/dml/.cache/pypoetry/virtualenvs/research-bicisba-A0HrnKHR-py3.10/lib/python3.10/site-packages/urllib3/connectionpool.py:1045: InsecureRequestWarning: Unverified HTTPS request is being made to host 'minio.crossnox.dev'. Adding certificate verification is strongly advised. See: https://urllib3.readthedocs.io/en/1.26.x/advanced-usage.html#ssl-warnings\n",
      "  warnings.warn(\n"
     ]
    },
    {
     "ename": "ClientError",
     "evalue": "An error occurred (AccessDenied) when calling the PutObject operation: Access Denied.",
     "output_type": "error",
     "traceback": [
      "\u001b[0;31m---------------------------------------------------------------------------\u001b[0m",
      "\u001b[0;31mClientError\u001b[0m                               Traceback (most recent call last)",
      "Cell \u001b[0;32mIn [78], line 1\u001b[0m\n\u001b[0;32m----> 1\u001b[0m avail_model_trainer\u001b[39m.\u001b[39;49mdump_stations_pipelines(DATES[\u001b[39m-\u001b[39;49m\u001b[39m1\u001b[39;49m])\n",
      "File \u001b[0;32m~/proyectos/bicisba/research/models/availability_model_trainer.py:57\u001b[0m, in \u001b[0;36mdump_stations_pipelines\u001b[0;34m(self, date, current)\u001b[0m\n\u001b[1;32m     52\u001b[0m         model_to_copy \u001b[39m=\u001b[39m {\n\u001b[1;32m     53\u001b[0m             \u001b[39m'\u001b[39m\u001b[39mBucket\u001b[39m\u001b[39m'\u001b[39m: BUCKET,\n\u001b[1;32m     54\u001b[0m             \u001b[39m'\u001b[39m\u001b[39mKey\u001b[39m\u001b[39m'\u001b[39m: model_key\n\u001b[1;32m     55\u001b[0m         }\n\u001b[1;32m     56\u001b[0m         \u001b[39mself\u001b[39m\u001b[39m.\u001b[39ms3_cli\u001b[39m.\u001b[39mclient\u001b[39m.\u001b[39mBucket(BUCKET)\u001b[39m.\u001b[39mcopy(model_to_copy, CURRENT_MODEL_KEY)\n\u001b[0;32m---> 57\u001b[0m \u001b[39mwith\u001b[39;00m BytesIO() \u001b[39mas\u001b[39;00m mem_f:\n\u001b[1;32m     58\u001b[0m     joblib\u001b[39m.\u001b[39mdump(\u001b[39mself\u001b[39m\u001b[39m.\u001b[39mstations_metrics, mem_f)\n\u001b[1;32m     59\u001b[0m     mem_f\u001b[39m.\u001b[39mseek(\u001b[39m0\u001b[39m)\n",
      "File \u001b[0;32m~/.cache/pypoetry/virtualenvs/research-bicisba-A0HrnKHR-py3.10/lib/python3.10/site-packages/boto3/s3/inject.py:678\u001b[0m, in \u001b[0;36mbucket_upload_fileobj\u001b[0;34m(self, Fileobj, Key, ExtraArgs, Callback, Config)\u001b[0m\n\u001b[1;32m    639\u001b[0m \u001b[39mdef\u001b[39;00m \u001b[39mbucket_upload_fileobj\u001b[39m(\n\u001b[1;32m    640\u001b[0m     \u001b[39mself\u001b[39m, Fileobj, Key, ExtraArgs\u001b[39m=\u001b[39m\u001b[39mNone\u001b[39;00m, Callback\u001b[39m=\u001b[39m\u001b[39mNone\u001b[39;00m, Config\u001b[39m=\u001b[39m\u001b[39mNone\u001b[39;00m\n\u001b[1;32m    641\u001b[0m ):\n\u001b[1;32m    642\u001b[0m     \u001b[39m\"\"\"Upload a file-like object to this bucket.\u001b[39;00m\n\u001b[1;32m    643\u001b[0m \n\u001b[1;32m    644\u001b[0m \u001b[39m    The file-like object must be in binary mode.\u001b[39;00m\n\u001b[0;32m   (...)\u001b[0m\n\u001b[1;32m    676\u001b[0m \u001b[39m        upload.\u001b[39;00m\n\u001b[1;32m    677\u001b[0m \u001b[39m    \"\"\"\u001b[39;00m\n\u001b[0;32m--> 678\u001b[0m     \u001b[39mreturn\u001b[39;00m \u001b[39mself\u001b[39;49m\u001b[39m.\u001b[39;49mmeta\u001b[39m.\u001b[39;49mclient\u001b[39m.\u001b[39;49mupload_fileobj(\n\u001b[1;32m    679\u001b[0m         Fileobj\u001b[39m=\u001b[39;49mFileobj,\n\u001b[1;32m    680\u001b[0m         Bucket\u001b[39m=\u001b[39;49m\u001b[39mself\u001b[39;49m\u001b[39m.\u001b[39;49mname,\n\u001b[1;32m    681\u001b[0m         Key\u001b[39m=\u001b[39;49mKey,\n\u001b[1;32m    682\u001b[0m         ExtraArgs\u001b[39m=\u001b[39;49mExtraArgs,\n\u001b[1;32m    683\u001b[0m         Callback\u001b[39m=\u001b[39;49mCallback,\n\u001b[1;32m    684\u001b[0m         Config\u001b[39m=\u001b[39;49mConfig,\n\u001b[1;32m    685\u001b[0m     )\n",
      "File \u001b[0;32m~/.cache/pypoetry/virtualenvs/research-bicisba-A0HrnKHR-py3.10/lib/python3.10/site-packages/boto3/s3/inject.py:636\u001b[0m, in \u001b[0;36mupload_fileobj\u001b[0;34m(self, Fileobj, Bucket, Key, ExtraArgs, Callback, Config)\u001b[0m\n\u001b[1;32m    628\u001b[0m \u001b[39mwith\u001b[39;00m create_transfer_manager(\u001b[39mself\u001b[39m, config) \u001b[39mas\u001b[39;00m manager:\n\u001b[1;32m    629\u001b[0m     future \u001b[39m=\u001b[39m manager\u001b[39m.\u001b[39mupload(\n\u001b[1;32m    630\u001b[0m         fileobj\u001b[39m=\u001b[39mFileobj,\n\u001b[1;32m    631\u001b[0m         bucket\u001b[39m=\u001b[39mBucket,\n\u001b[0;32m   (...)\u001b[0m\n\u001b[1;32m    634\u001b[0m         subscribers\u001b[39m=\u001b[39msubscribers,\n\u001b[1;32m    635\u001b[0m     )\n\u001b[0;32m--> 636\u001b[0m     \u001b[39mreturn\u001b[39;00m future\u001b[39m.\u001b[39;49mresult()\n",
      "File \u001b[0;32m~/.cache/pypoetry/virtualenvs/research-bicisba-A0HrnKHR-py3.10/lib/python3.10/site-packages/s3transfer/futures.py:103\u001b[0m, in \u001b[0;36mTransferFuture.result\u001b[0;34m(self)\u001b[0m\n\u001b[1;32m     98\u001b[0m \u001b[39mdef\u001b[39;00m \u001b[39mresult\u001b[39m(\u001b[39mself\u001b[39m):\n\u001b[1;32m     99\u001b[0m     \u001b[39mtry\u001b[39;00m:\n\u001b[1;32m    100\u001b[0m         \u001b[39m# Usually the result() method blocks until the transfer is done,\u001b[39;00m\n\u001b[1;32m    101\u001b[0m         \u001b[39m# however if a KeyboardInterrupt is raised we want want to exit\u001b[39;00m\n\u001b[1;32m    102\u001b[0m         \u001b[39m# out of this and propagate the exception.\u001b[39;00m\n\u001b[0;32m--> 103\u001b[0m         \u001b[39mreturn\u001b[39;00m \u001b[39mself\u001b[39;49m\u001b[39m.\u001b[39;49m_coordinator\u001b[39m.\u001b[39;49mresult()\n\u001b[1;32m    104\u001b[0m     \u001b[39mexcept\u001b[39;00m \u001b[39mKeyboardInterrupt\u001b[39;00m \u001b[39mas\u001b[39;00m e:\n\u001b[1;32m    105\u001b[0m         \u001b[39mself\u001b[39m\u001b[39m.\u001b[39mcancel()\n",
      "File \u001b[0;32m~/.cache/pypoetry/virtualenvs/research-bicisba-A0HrnKHR-py3.10/lib/python3.10/site-packages/s3transfer/futures.py:266\u001b[0m, in \u001b[0;36mTransferCoordinator.result\u001b[0;34m(self)\u001b[0m\n\u001b[1;32m    263\u001b[0m \u001b[39m# Once done waiting, raise an exception if present or return the\u001b[39;00m\n\u001b[1;32m    264\u001b[0m \u001b[39m# final result.\u001b[39;00m\n\u001b[1;32m    265\u001b[0m \u001b[39mif\u001b[39;00m \u001b[39mself\u001b[39m\u001b[39m.\u001b[39m_exception:\n\u001b[0;32m--> 266\u001b[0m     \u001b[39mraise\u001b[39;00m \u001b[39mself\u001b[39m\u001b[39m.\u001b[39m_exception\n\u001b[1;32m    267\u001b[0m \u001b[39mreturn\u001b[39;00m \u001b[39mself\u001b[39m\u001b[39m.\u001b[39m_result\n",
      "File \u001b[0;32m~/.cache/pypoetry/virtualenvs/research-bicisba-A0HrnKHR-py3.10/lib/python3.10/site-packages/s3transfer/tasks.py:139\u001b[0m, in \u001b[0;36mTask.__call__\u001b[0;34m(self)\u001b[0m\n\u001b[1;32m    135\u001b[0m     \u001b[39m# If the task is not done (really only if some other related\u001b[39;00m\n\u001b[1;32m    136\u001b[0m     \u001b[39m# task to the TransferFuture had failed) then execute the task's\u001b[39;00m\n\u001b[1;32m    137\u001b[0m     \u001b[39m# main() method.\u001b[39;00m\n\u001b[1;32m    138\u001b[0m     \u001b[39mif\u001b[39;00m \u001b[39mnot\u001b[39;00m \u001b[39mself\u001b[39m\u001b[39m.\u001b[39m_transfer_coordinator\u001b[39m.\u001b[39mdone():\n\u001b[0;32m--> 139\u001b[0m         \u001b[39mreturn\u001b[39;00m \u001b[39mself\u001b[39;49m\u001b[39m.\u001b[39;49m_execute_main(kwargs)\n\u001b[1;32m    140\u001b[0m \u001b[39mexcept\u001b[39;00m \u001b[39mException\u001b[39;00m \u001b[39mas\u001b[39;00m e:\n\u001b[1;32m    141\u001b[0m     \u001b[39mself\u001b[39m\u001b[39m.\u001b[39m_log_and_set_exception(e)\n",
      "File \u001b[0;32m~/.cache/pypoetry/virtualenvs/research-bicisba-A0HrnKHR-py3.10/lib/python3.10/site-packages/s3transfer/tasks.py:162\u001b[0m, in \u001b[0;36mTask._execute_main\u001b[0;34m(self, kwargs)\u001b[0m\n\u001b[1;32m    159\u001b[0m \u001b[39m# Log what is about to be executed.\u001b[39;00m\n\u001b[1;32m    160\u001b[0m logger\u001b[39m.\u001b[39mdebug(\u001b[39mf\u001b[39m\u001b[39m\"\u001b[39m\u001b[39mExecuting task \u001b[39m\u001b[39m{\u001b[39;00m\u001b[39mself\u001b[39m\u001b[39m}\u001b[39;00m\u001b[39m with kwargs \u001b[39m\u001b[39m{\u001b[39;00mkwargs_to_display\u001b[39m}\u001b[39;00m\u001b[39m\"\u001b[39m)\n\u001b[0;32m--> 162\u001b[0m return_value \u001b[39m=\u001b[39m \u001b[39mself\u001b[39;49m\u001b[39m.\u001b[39;49m_main(\u001b[39m*\u001b[39;49m\u001b[39m*\u001b[39;49mkwargs)\n\u001b[1;32m    163\u001b[0m \u001b[39m# If the task is the final task, then set the TransferFuture's\u001b[39;00m\n\u001b[1;32m    164\u001b[0m \u001b[39m# value to the return value from main().\u001b[39;00m\n\u001b[1;32m    165\u001b[0m \u001b[39mif\u001b[39;00m \u001b[39mself\u001b[39m\u001b[39m.\u001b[39m_is_final:\n",
      "File \u001b[0;32m~/.cache/pypoetry/virtualenvs/research-bicisba-A0HrnKHR-py3.10/lib/python3.10/site-packages/s3transfer/upload.py:758\u001b[0m, in \u001b[0;36mPutObjectTask._main\u001b[0;34m(self, client, fileobj, bucket, key, extra_args)\u001b[0m\n\u001b[1;32m    749\u001b[0m \u001b[39m\"\"\"\u001b[39;00m\n\u001b[1;32m    750\u001b[0m \u001b[39m:param client: The client to use when calling PutObject\u001b[39;00m\n\u001b[1;32m    751\u001b[0m \u001b[39m:param fileobj: The file to upload.\u001b[39;00m\n\u001b[0;32m   (...)\u001b[0m\n\u001b[1;32m    755\u001b[0m \u001b[39m    used in the upload.\u001b[39;00m\n\u001b[1;32m    756\u001b[0m \u001b[39m\"\"\"\u001b[39;00m\n\u001b[1;32m    757\u001b[0m \u001b[39mwith\u001b[39;00m fileobj \u001b[39mas\u001b[39;00m body:\n\u001b[0;32m--> 758\u001b[0m     client\u001b[39m.\u001b[39;49mput_object(Bucket\u001b[39m=\u001b[39;49mbucket, Key\u001b[39m=\u001b[39;49mkey, Body\u001b[39m=\u001b[39;49mbody, \u001b[39m*\u001b[39;49m\u001b[39m*\u001b[39;49mextra_args)\n",
      "File \u001b[0;32m~/.cache/pypoetry/virtualenvs/research-bicisba-A0HrnKHR-py3.10/lib/python3.10/site-packages/botocore/client.py:507\u001b[0m, in \u001b[0;36mClientCreator._create_api_method.<locals>._api_call\u001b[0;34m(self, *args, **kwargs)\u001b[0m\n\u001b[1;32m    503\u001b[0m     \u001b[39mraise\u001b[39;00m \u001b[39mTypeError\u001b[39;00m(\n\u001b[1;32m    504\u001b[0m         \u001b[39mf\u001b[39m\u001b[39m\"\u001b[39m\u001b[39m{\u001b[39;00mpy_operation_name\u001b[39m}\u001b[39;00m\u001b[39m() only accepts keyword arguments.\u001b[39m\u001b[39m\"\u001b[39m\n\u001b[1;32m    505\u001b[0m     )\n\u001b[1;32m    506\u001b[0m \u001b[39m# The \"self\" in this scope is referring to the BaseClient.\u001b[39;00m\n\u001b[0;32m--> 507\u001b[0m \u001b[39mreturn\u001b[39;00m \u001b[39mself\u001b[39;49m\u001b[39m.\u001b[39;49m_make_api_call(operation_name, kwargs)\n",
      "File \u001b[0;32m~/.cache/pypoetry/virtualenvs/research-bicisba-A0HrnKHR-py3.10/lib/python3.10/site-packages/botocore/client.py:943\u001b[0m, in \u001b[0;36mBaseClient._make_api_call\u001b[0;34m(self, operation_name, api_params)\u001b[0m\n\u001b[1;32m    941\u001b[0m     error_code \u001b[39m=\u001b[39m parsed_response\u001b[39m.\u001b[39mget(\u001b[39m\"\u001b[39m\u001b[39mError\u001b[39m\u001b[39m\"\u001b[39m, {})\u001b[39m.\u001b[39mget(\u001b[39m\"\u001b[39m\u001b[39mCode\u001b[39m\u001b[39m\"\u001b[39m)\n\u001b[1;32m    942\u001b[0m     error_class \u001b[39m=\u001b[39m \u001b[39mself\u001b[39m\u001b[39m.\u001b[39mexceptions\u001b[39m.\u001b[39mfrom_code(error_code)\n\u001b[0;32m--> 943\u001b[0m     \u001b[39mraise\u001b[39;00m error_class(parsed_response, operation_name)\n\u001b[1;32m    944\u001b[0m \u001b[39melse\u001b[39;00m:\n\u001b[1;32m    945\u001b[0m     \u001b[39mreturn\u001b[39;00m parsed_response\n",
      "\u001b[0;31mClientError\u001b[0m: An error occurred (AccessDenied) when calling the PutObject operation: Access Denied."
     ]
    }
   ],
   "source": [
    "avail_model_trainer.dump_stations_pipelines(DATES[-1])"
   ]
  },
  {
   "cell_type": "code",
   "execution_count": null,
   "metadata": {},
   "outputs": [],
   "source": [
    "with BytesIO() as mem_f:\n",
    "    s3_cli.client.Bucket(\"frame\").download_fileobj(Key=\"models/\"+ DATES[-1].strftime('year=%Y/month=%m/%d') +\".joblib\", Fileobj=mem_f)\n",
    "    mem_f.seek(0)\n",
    "    loaded_model = joblib.load(mem_f)\n",
    "\n",
    "loaded_model.predict_proba(test_set[:3][FEATURES_ORDER].values)"
   ]
  },
  {
   "cell_type": "code",
   "execution_count": 79,
   "metadata": {},
   "outputs": [],
   "source": [
    "temp_dir.cleanup()"
   ]
  },
  {
   "cell_type": "code",
   "execution_count": null,
   "metadata": {},
   "outputs": [],
   "source": []
  }
 ],
 "metadata": {
  "kernelspec": {
   "display_name": "Python 3.10.6 ('research-bicisba-A0HrnKHR-py3.10')",
   "language": "python",
   "name": "python3"
  },
  "language_info": {
   "codemirror_mode": {
    "name": "ipython",
    "version": 3
   },
   "file_extension": ".py",
   "mimetype": "text/x-python",
   "name": "python",
   "nbconvert_exporter": "python",
   "pygments_lexer": "ipython3",
   "version": "3.10.6"
  },
  "orig_nbformat": 4,
  "vscode": {
   "interpreter": {
    "hash": "116d2b1e2657b354618eb157580267b90c673be9d2a02c06ea05a73a2857e78d"
   }
  }
 },
 "nbformat": 4,
 "nbformat_minor": 2
}
