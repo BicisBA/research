{
 "cells": [
  {
   "cell_type": "code",
   "execution_count": 1,
   "metadata": {},
   "outputs": [],
   "source": [
    "import pandas as pd\n",
    "from sklearn.compose import ColumnTransformer\n",
    "from sklearn.preprocessing import OneHotEncoder, StandardScaler\n",
    "from sklearn.pipeline import make_pipeline\n",
    "from sklearn.ensemble import RandomForestClassifier\n",
    "from sklearn.metrics import confusion_matrix, plot_roc_curve, PrecisionRecallDisplay\n",
    "from sklearn.model_selection import train_test_split\n",
    "from lightgbm import LGBMClassifier\n",
    "import numpy as np\n",
    "import random\n",
    "import seaborn as sns\n",
    "from matplotlib import pyplot as plt"
   ]
  },
  {
   "cell_type": "code",
   "execution_count": 12,
   "metadata": {},
   "outputs": [],
   "source": [
    "complete_ds = pd.read_csv(\"avail_complete.csv\").sample(frac=0.35)"
   ]
  },
  {
   "cell_type": "code",
   "execution_count": 13,
   "metadata": {},
   "outputs": [
    {
     "data": {
      "text/plain": [
       "3255383"
      ]
     },
     "execution_count": 13,
     "metadata": {},
     "output_type": "execute_result"
    }
   ],
   "source": [
    "len(complete_ds)"
   ]
  },
  {
   "cell_type": "code",
   "execution_count": 14,
   "metadata": {},
   "outputs": [
    {
     "data": {
      "text/html": [
       "<div>\n",
       "<style scoped>\n",
       "    .dataframe tbody tr th:only-of-type {\n",
       "        vertical-align: middle;\n",
       "    }\n",
       "\n",
       "    .dataframe tbody tr th {\n",
       "        vertical-align: top;\n",
       "    }\n",
       "\n",
       "    .dataframe thead th {\n",
       "        text-align: right;\n",
       "    }\n",
       "</style>\n",
       "<table border=\"1\" class=\"dataframe\">\n",
       "  <thead>\n",
       "    <tr style=\"text-align: right;\">\n",
       "      <th></th>\n",
       "      <th>Unnamed: 0.1</th>\n",
       "      <th>Unnamed: 0</th>\n",
       "      <th>station_id</th>\n",
       "      <th>hour</th>\n",
       "      <th>dow</th>\n",
       "      <th>num_bikes_available</th>\n",
       "      <th>num_bikes_disabled</th>\n",
       "      <th>num_docks_available</th>\n",
       "      <th>num_docks_disabled</th>\n",
       "      <th>status</th>\n",
       "      <th>minutes_bt_check</th>\n",
       "      <th>remaining_bikes_available</th>\n",
       "    </tr>\n",
       "  </thead>\n",
       "  <tbody>\n",
       "    <tr>\n",
       "      <th>5578071</th>\n",
       "      <td>133416</td>\n",
       "      <td>153178</td>\n",
       "      <td>348</td>\n",
       "      <td>16</td>\n",
       "      <td>5</td>\n",
       "      <td>8</td>\n",
       "      <td>0</td>\n",
       "      <td>4</td>\n",
       "      <td>0</td>\n",
       "      <td>IN_SERVICE</td>\n",
       "      <td>2.0</td>\n",
       "      <td>9.0</td>\n",
       "    </tr>\n",
       "    <tr>\n",
       "      <th>2539173</th>\n",
       "      <td>2539173</td>\n",
       "      <td>1521620</td>\n",
       "      <td>82</td>\n",
       "      <td>20</td>\n",
       "      <td>4</td>\n",
       "      <td>2</td>\n",
       "      <td>1</td>\n",
       "      <td>17</td>\n",
       "      <td>0</td>\n",
       "      <td>IN_SERVICE</td>\n",
       "      <td>16.0</td>\n",
       "      <td>1.0</td>\n",
       "    </tr>\n",
       "    <tr>\n",
       "      <th>7946953</th>\n",
       "      <td>1213946</td>\n",
       "      <td>1025768</td>\n",
       "      <td>423</td>\n",
       "      <td>11</td>\n",
       "      <td>0</td>\n",
       "      <td>3</td>\n",
       "      <td>2</td>\n",
       "      <td>7</td>\n",
       "      <td>0</td>\n",
       "      <td>IN_SERVICE</td>\n",
       "      <td>14.0</td>\n",
       "      <td>3.0</td>\n",
       "    </tr>\n",
       "    <tr>\n",
       "      <th>4965541</th>\n",
       "      <td>2284879</td>\n",
       "      <td>1128137</td>\n",
       "      <td>200</td>\n",
       "      <td>21</td>\n",
       "      <td>2</td>\n",
       "      <td>6</td>\n",
       "      <td>0</td>\n",
       "      <td>10</td>\n",
       "      <td>0</td>\n",
       "      <td>IN_SERVICE</td>\n",
       "      <td>13.0</td>\n",
       "      <td>6.0</td>\n",
       "    </tr>\n",
       "    <tr>\n",
       "      <th>91266</th>\n",
       "      <td>91266</td>\n",
       "      <td>1112735</td>\n",
       "      <td>6</td>\n",
       "      <td>1</td>\n",
       "      <td>6</td>\n",
       "      <td>18</td>\n",
       "      <td>2</td>\n",
       "      <td>0</td>\n",
       "      <td>0</td>\n",
       "      <td>IN_SERVICE</td>\n",
       "      <td>1.0</td>\n",
       "      <td>18.0</td>\n",
       "    </tr>\n",
       "  </tbody>\n",
       "</table>\n",
       "</div>"
      ],
      "text/plain": [
       "         Unnamed: 0.1  Unnamed: 0  station_id  hour  dow  num_bikes_available  \\\n",
       "5578071        133416      153178         348    16    5                    8   \n",
       "2539173       2539173     1521620          82    20    4                    2   \n",
       "7946953       1213946     1025768         423    11    0                    3   \n",
       "4965541       2284879     1128137         200    21    2                    6   \n",
       "91266           91266     1112735           6     1    6                   18   \n",
       "\n",
       "         num_bikes_disabled  num_docks_available  num_docks_disabled  \\\n",
       "5578071                   0                    4                   0   \n",
       "2539173                   1                   17                   0   \n",
       "7946953                   2                    7                   0   \n",
       "4965541                   0                   10                   0   \n",
       "91266                     2                    0                   0   \n",
       "\n",
       "             status  minutes_bt_check  remaining_bikes_available  \n",
       "5578071  IN_SERVICE               2.0                        9.0  \n",
       "2539173  IN_SERVICE              16.0                        1.0  \n",
       "7946953  IN_SERVICE              14.0                        3.0  \n",
       "4965541  IN_SERVICE              13.0                        6.0  \n",
       "91266    IN_SERVICE               1.0                       18.0  "
      ]
     },
     "execution_count": 14,
     "metadata": {},
     "output_type": "execute_result"
    }
   ],
   "source": [
    "complete_ds.head()"
   ]
  },
  {
   "cell_type": "code",
   "execution_count": 15,
   "metadata": {},
   "outputs": [],
   "source": [
    "complete_ds[\"remaining_bikes\"] = (complete_ds[\"remaining_bikes_available\"]>0).astype(int)"
   ]
  },
  {
   "attachments": {},
   "cell_type": "markdown",
   "metadata": {},
   "source": [
    "## Stations as models"
   ]
  },
  {
   "cell_type": "code",
   "execution_count": 16,
   "metadata": {},
   "outputs": [],
   "source": [
    "FEATURES_ORDER = [\"hour\", \"dow\", \"num_bikes_available\", \"num_bikes_disabled\", \"num_docks_available\", \"num_docks_disabled\", \"minutes_bt_check\"]\n",
    "TARGET = \"remaining_bikes\"\n",
    "CLASS_WEIGHT = {0: 100, 1: 1}\n",
    "OHE_SLICE = [0, 1]\n",
    "SS_SLICE = slice(2,7)\n",
    "TEST_SIZE = 0.2"
   ]
  },
  {
   "cell_type": "code",
   "execution_count": 17,
   "metadata": {},
   "outputs": [],
   "source": [
    "station_ids = complete_ds[\"station_id\"].unique()\n",
    "\n",
    "lgb_metrics = dict(tn=0, fp=0, fn=0, tp=0)\n",
    "for station_id in station_ids:\n",
    "    station_ds = complete_ds[complete_ds[\"station_id\"] == station_id]\n",
    "    X_train, X_test, y_train, y_test = train_test_split(station_ds[FEATURES_ORDER].values, station_ds[TARGET].values, test_size=TEST_SIZE, shuffle=True)\n",
    "    if len(station_ds[TARGET].unique()) == 1:\n",
    "        y_train[0] = 0\n",
    "        y_test[0] = 0\n",
    "    lgb_pipeline = make_pipeline(\n",
    "        ColumnTransformer([(\"ohe\",  OneHotEncoder(sparse=False), OHE_SLICE), (\"ss\",  StandardScaler(), SS_SLICE)]),\n",
    "        LGBMClassifier(class_weight=CLASS_WEIGHT, n_estimators=10, max_depth=10))\n",
    "    lgb_pipeline.fit(X_train, y_train)        \n",
    "    tn, fp, fn, tp = confusion_matrix(y_test, lgb_pipeline.predict(X_test)).ravel()\n",
    "    lgb_metrics[\"tn\"] += tn\n",
    "    lgb_metrics[\"fp\"] += fp\n",
    "    lgb_metrics[\"fn\"] += fn\n",
    "    lgb_metrics[\"tp\"] += tp"
   ]
  },
  {
   "cell_type": "code",
   "execution_count": 18,
   "metadata": {},
   "outputs": [
    {
     "data": {
      "text/plain": [
       "{'tn': 35955, 'fp': 631, 'fn': 108566, 'tp': 506051}"
      ]
     },
     "execution_count": 18,
     "metadata": {},
     "output_type": "execute_result"
    }
   ],
   "source": [
    "lgb_metrics"
   ]
  },
  {
   "cell_type": "code",
   "execution_count": 19,
   "metadata": {},
   "outputs": [
    {
     "name": "stdout",
     "output_type": "stream",
     "text": [
      "tn: 0.9827529656152627, fp: 0.01724703438473733, fn: 0.17664008642780787, tp: 0.8233599135721921\n"
     ]
    }
   ],
   "source": [
    "tn_p = lgb_metrics[\"tn\"] / (lgb_metrics[\"tn\"]+lgb_metrics[\"fp\"])\n",
    "fp_p = lgb_metrics[\"fp\"] / (lgb_metrics[\"tn\"]+lgb_metrics[\"fp\"])\n",
    "fn_p = lgb_metrics[\"fn\"] / (lgb_metrics[\"fn\"]+lgb_metrics[\"tp\"])\n",
    "tp_p = lgb_metrics[\"tp\"] / (lgb_metrics[\"fn\"]+lgb_metrics[\"tp\"])\n",
    "print(f\"tn: {tn_p}, fp: {fp_p}, fn: {fn_p}, tp: {tp_p}\")"
   ]
  },
  {
   "attachments": {},
   "cell_type": "markdown",
   "metadata": {},
   "source": [
    "## Stations as features"
   ]
  },
  {
   "cell_type": "code",
   "execution_count": 7,
   "metadata": {},
   "outputs": [],
   "source": [
    "FEATURES_ORDER_F = [\"station_id\", \"hour\", \"dow\", \"num_bikes_available\", \"num_bikes_disabled\", \"num_docks_available\", \"num_docks_disabled\", \"minutes_bt_check\"]\n",
    "OHE_SLICE_F = [0, 1, 2]\n",
    "SS_SLICE_F = slice(3,8)"
   ]
  },
  {
   "cell_type": "code",
   "execution_count": 8,
   "metadata": {},
   "outputs": [],
   "source": [
    "station_ids = complete_ds[\"station_id\"].unique()\n",
    "\n",
    "X_train, X_test, y_train, y_test = train_test_split(complete_ds[FEATURES_ORDER_F].values, complete_ds[TARGET].values, test_size=TEST_SIZE, shuffle=True)\n",
    "del complete_ds\n",
    "lgb_pipeline = make_pipeline(\n",
    "    ColumnTransformer([(\"ohe\",  OneHotEncoder(sparse=False), OHE_SLICE_F), (\"ss\",  StandardScaler(), SS_SLICE_F)]),\n",
    "    LGBMClassifier(class_weight=CLASS_WEIGHT, n_estimators=10, max_depth=10))\n",
    "lgb_pipeline.fit(X_train, y_train)\n",
    "tn_f, fp_f, fn_f, tp_f = confusion_matrix(y_test, lgb_pipeline.predict(X_test)).ravel()"
   ]
  },
  {
   "cell_type": "code",
   "execution_count": 9,
   "metadata": {},
   "outputs": [
    {
     "name": "stdout",
     "output_type": "stream",
     "text": [
      "tn: 36579, fp: 160, fn: 184778, tp: 429560\n"
     ]
    }
   ],
   "source": [
    "print(f\"tn: {tn_f}, fp: {fp_f}, fn: {fn_f}, tp: {tp_f}\")"
   ]
  },
  {
   "cell_type": "code",
   "execution_count": 21,
   "metadata": {},
   "outputs": [
    {
     "name": "stdout",
     "output_type": "stream",
     "text": [
      "tn: 0.9956449549525028, fp: 0.00435504504749721, fn: 0.3007757944323809, tp: 0.6992242055676191\n"
     ]
    }
   ],
   "source": [
    "tn_f_p = tn_f / (tn_f+fp_f)\n",
    "fp_f_p = fp_f / (tn_f+fp_f)\n",
    "fn_f_p = fn_f / (fn_f+tp_f)\n",
    "tp_f_p = tp_f / (fn_f+tp_f)\n",
    "print(f\"tn: {tn_f_p}, fp: {fp_f_p}, fn: {fn_f_p}, tp: {tp_f_p}\")"
   ]
  },
  {
   "cell_type": "code",
   "execution_count": 22,
   "metadata": {},
   "outputs": [
    {
     "data": {
      "image/png": "[encoded data removed]",
      "text/plain": [
       "<Figure size 1400x600 with 4 Axes>"
      ]
     },
     "metadata": {},
     "output_type": "display_data"
    }
   ],
   "source": [
    "f, axs = plt.subplots(1,2, figsize=(14, 6))\n",
    "df_cm = pd.DataFrame([[tn_f_p, fp_f_p], [fn_f_p, tp_f_p]], index = [\"empty\", \"available\"], columns = [\"empty\", \"available\"])\n",
    "g = sns.heatmap(df_cm, annot=True, ax=axs[0])\n",
    "\n",
    "g.set_xlabel('Predicted')\n",
    "g.set_ylabel('True')\n",
    "g.set_title('Confusion Matrix Station as Feature'); \n",
    "\n",
    "df_cm = pd.DataFrame([[tn_p, fp_p], [fn_p, tp_p]], index = [\"empty\", \"available\"], columns = [\"empty\", \"available\"])\n",
    "g = sns.heatmap(df_cm, annot=True, ax=axs[1])\n",
    "\n",
    "g.set_xlabel('Predicted')\n",
    "g.set_ylabel('True')\n",
    "g.set_title('Confusion Matrix Model per Station'); "
   ]
  },
  {
   "cell_type": "code",
   "execution_count": 24,
   "metadata": {},
   "outputs": [
    {
     "data": {
      "image/png": "[encoded data removed]",
      "text/plain": [
       "<Figure size 640x480 with 2 Axes>"
      ]
     },
     "metadata": {},
     "output_type": "display_data"
    }
   ],
   "source": [
    "df_cm = pd.DataFrame([[tn_f_p, fp_f_p], [fn_f_p, tp_f_p]], index = [\"empty\", \"available\"], columns = [\"empty\", \"available\"])\n",
    "g = sns.heatmap(df_cm, annot=True)\n",
    "\n",
    "g.set_xlabel('Predicted')\n",
    "g.set_ylabel('True')\n",
    "g.set_title('Confusion Matrix Station as Feature'); "
   ]
  }
 ],
 "metadata": {
  "kernelspec": {
   "display_name": "research-bicisba-A0HrnKHR-py3.10",
   "language": "python",
   "name": "python3"
  },
  "language_info": {
   "codemirror_mode": {
    "name": "ipython",
    "version": 3
   },
   "file_extension": ".py",
   "mimetype": "text/x-python",
   "name": "python",
   "nbconvert_exporter": "python",
   "pygments_lexer": "ipython3",
   "version": "3.10.6"
  },
  "orig_nbformat": 4,
  "vscode": {
   "interpreter": {
    "hash": "116d2b1e2657b354618eb157580267b90c673be9d2a02c06ea05a73a2857e78d"
   }
  }
 },
 "nbformat": 4,
 "nbformat_minor": 2
}
