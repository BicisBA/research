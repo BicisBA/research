{
 "cells": [
  {
   "cell_type": "code",
   "execution_count": 2,
   "id": "3c285109-bb00-4293-b0e9-003ac4de77fa",
   "metadata": {},
   "outputs": [],
   "source": [
    "import glob\n",
    "import json\n",
    "from datetime import datetime as dt\n",
    "\n",
    "import pandas as pd\n",
    "from tqdm.notebook import tqdm"
   ]
  },
  {
   "cell_type": "code",
   "execution_count": 3,
   "id": "67aace70-f291-450c-a227-23c24f1b6686",
   "metadata": {},
   "outputs": [
    {
     "data": {
      "application/vnd.jupyter.widget-view+json": {
       "model_id": "7f9951352d674044b4386ce7232b7541",
       "version_major": 2,
       "version_minor": 0
      },
      "text/plain": [
       "  0%|          | 0/11497 [00:00<?, ?it/s]"
      ]
     },
     "metadata": {},
     "output_type": "display_data"
    }
   ],
   "source": [
    "files = glob.glob(\"./data/**/*.json\", recursive=True)\n",
    "dfs = []\n",
    "\n",
    "for file in tqdm(files):\n",
    "    year = 2022\n",
    "    month = 10\n",
    "    _, _, day, hour, minute = file.split(\"/\")\n",
    "    minute = minute[: -len(\".json\")]\n",
    "    with open(file) as f:\n",
    "        data = json.load(f)\n",
    "        new_df = pd.json_normalize(data)\n",
    "        new_df[\"datetime\"] = dt(\n",
    "            year=int(year),\n",
    "            month=int(month),\n",
    "            day=int(day),\n",
    "            hour=int(hour),\n",
    "            minute=int(minute),\n",
    "        )\n",
    "\n",
    "        new_df.station_id = new_df.station_id.astype(\"int16\")\n",
    "        new_df.num_bikes_available = new_df.num_bikes_available.astype(\"int8\")\n",
    "        new_df.num_bikes_disabled = new_df.num_bikes_disabled.astype(\"int8\")\n",
    "        new_df.num_docks_available = new_df.num_docks_available.astype(\"int8\")\n",
    "        new_df.num_docks_disabled = new_df.num_docks_disabled.astype(\"int8\")\n",
    "        new_df.is_installed = new_df.is_installed.astype(bool)\n",
    "        new_df.is_renting = new_df.is_renting.astype(bool)\n",
    "        new_df.is_returning = new_df.is_returning.astype(bool)\n",
    "\n",
    "        dfs.append(new_df)"
   ]
  },
  {
   "cell_type": "code",
   "execution_count": 4,
   "id": "bf1a6a3c-c879-4e8a-9370-2b3cb2706d4f",
   "metadata": {},
   "outputs": [],
   "source": [
    "df = pd.concat(dfs)\n",
    "df = df.drop_duplicates(subset=[\"station_id\", \"last_reported\"])"
   ]
  },
  {
   "cell_type": "code",
   "execution_count": 5,
   "id": "1e1a7a21-6532-4633-beaf-91e2597d6761",
   "metadata": {},
   "outputs": [
    {
     "data": {
      "text/plain": [
       "'165.64 MB'"
      ]
     },
     "execution_count": 5,
     "metadata": {},
     "output_type": "execute_result"
    }
   ],
   "source": [
    "import math\n",
    "\n",
    "\n",
    "def humansize(nbytes: int) -> str:\n",
    "    \"\"\"Convert bytes to human readable format.\n",
    "\n",
    "    Source: https://stackoverflow.com/a/14996816/4864169\n",
    "\n",
    "    Parameters\n",
    "    ----------\n",
    "    nbytes : int\n",
    "        Number of bytes.\n",
    "\n",
    "    Returns\n",
    "    -------\n",
    "    str\n",
    "        Message that indicates number of bytes in a human readable format.\n",
    "\n",
    "    \"\"\"\n",
    "    suffixes = [\"B\", \"KB\", \"MB\", \"GB\", \"TB\", \"PB\"]\n",
    "\n",
    "    if nbytes < 0:\n",
    "        raise ValueError(\"Number of bytes should be greater than or equal to zero\")\n",
    "\n",
    "    exp: int = 0 if nbytes == 0 else math.floor(math.log(nbytes, 1024))\n",
    "    n_units: float = nbytes / math.pow(1024, exp)\n",
    "    bytes_str = f\"{n_units:.2f}\".rstrip(\"0\").rstrip(\".\")\n",
    "    return f\"{bytes_str} {suffixes[exp]}\"\n",
    "\n",
    "\n",
    "humansize(df.memory_usage(deep=True, index=True).sum())"
   ]
  },
  {
   "cell_type": "code",
   "execution_count": 6,
   "id": "6c4a3b50-6c1a-443e-99d3-6215b81654f0",
   "metadata": {},
   "outputs": [
    {
     "data": {
      "text/html": [
       "<div>\n",
       "<style scoped>\n",
       "    .dataframe tbody tr th:only-of-type {\n",
       "        vertical-align: middle;\n",
       "    }\n",
       "\n",
       "    .dataframe tbody tr th {\n",
       "        vertical-align: top;\n",
       "    }\n",
       "\n",
       "    .dataframe thead th {\n",
       "        text-align: right;\n",
       "    }\n",
       "</style>\n",
       "<table border=\"1\" class=\"dataframe\">\n",
       "  <thead>\n",
       "    <tr style=\"text-align: right;\">\n",
       "      <th></th>\n",
       "      <th>station_id</th>\n",
       "      <th>num_bikes_available</th>\n",
       "      <th>num_bikes_disabled</th>\n",
       "      <th>num_docks_available</th>\n",
       "      <th>num_docks_disabled</th>\n",
       "      <th>last_reported</th>\n",
       "    </tr>\n",
       "  </thead>\n",
       "  <tbody>\n",
       "    <tr>\n",
       "      <th>count</th>\n",
       "      <td>821898.000000</td>\n",
       "      <td>821898.000000</td>\n",
       "      <td>821898.000000</td>\n",
       "      <td>821898.000000</td>\n",
       "      <td>821898.000000</td>\n",
       "      <td>8.218840e+05</td>\n",
       "    </tr>\n",
       "    <tr>\n",
       "      <th>mean</th>\n",
       "      <td>245.828126</td>\n",
       "      <td>7.252918</td>\n",
       "      <td>1.027412</td>\n",
       "      <td>9.595383</td>\n",
       "      <td>0.001472</td>\n",
       "      <td>1.664929e+09</td>\n",
       "    </tr>\n",
       "    <tr>\n",
       "      <th>std</th>\n",
       "      <td>149.594133</td>\n",
       "      <td>5.920881</td>\n",
       "      <td>1.305899</td>\n",
       "      <td>6.310656</td>\n",
       "      <td>0.038341</td>\n",
       "      <td>2.008031e+05</td>\n",
       "    </tr>\n",
       "    <tr>\n",
       "      <th>min</th>\n",
       "      <td>2.000000</td>\n",
       "      <td>0.000000</td>\n",
       "      <td>0.000000</td>\n",
       "      <td>0.000000</td>\n",
       "      <td>0.000000</td>\n",
       "      <td>1.664582e+09</td>\n",
       "    </tr>\n",
       "    <tr>\n",
       "      <th>25%</th>\n",
       "      <td>116.000000</td>\n",
       "      <td>2.000000</td>\n",
       "      <td>0.000000</td>\n",
       "      <td>4.000000</td>\n",
       "      <td>0.000000</td>\n",
       "      <td>1.664754e+09</td>\n",
       "    </tr>\n",
       "    <tr>\n",
       "      <th>50%</th>\n",
       "      <td>234.000000</td>\n",
       "      <td>6.000000</td>\n",
       "      <td>1.000000</td>\n",
       "      <td>9.000000</td>\n",
       "      <td>0.000000</td>\n",
       "      <td>1.664929e+09</td>\n",
       "    </tr>\n",
       "    <tr>\n",
       "      <th>75%</th>\n",
       "      <td>378.000000</td>\n",
       "      <td>11.000000</td>\n",
       "      <td>2.000000</td>\n",
       "      <td>14.000000</td>\n",
       "      <td>0.000000</td>\n",
       "      <td>1.665102e+09</td>\n",
       "    </tr>\n",
       "    <tr>\n",
       "      <th>max</th>\n",
       "      <td>498.000000</td>\n",
       "      <td>42.000000</td>\n",
       "      <td>14.000000</td>\n",
       "      <td>42.000000</td>\n",
       "      <td>1.000000</td>\n",
       "      <td>1.665276e+09</td>\n",
       "    </tr>\n",
       "  </tbody>\n",
       "</table>\n",
       "</div>"
      ],
      "text/plain": [
       "          station_id  num_bikes_available  num_bikes_disabled  \\\n",
       "count  821898.000000        821898.000000       821898.000000   \n",
       "mean      245.828126             7.252918            1.027412   \n",
       "std       149.594133             5.920881            1.305899   \n",
       "min         2.000000             0.000000            0.000000   \n",
       "25%       116.000000             2.000000            0.000000   \n",
       "50%       234.000000             6.000000            1.000000   \n",
       "75%       378.000000            11.000000            2.000000   \n",
       "max       498.000000            42.000000           14.000000   \n",
       "\n",
       "       num_docks_available  num_docks_disabled  last_reported  \n",
       "count        821898.000000       821898.000000   8.218840e+05  \n",
       "mean              9.595383            0.001472   1.664929e+09  \n",
       "std               6.310656            0.038341   2.008031e+05  \n",
       "min               0.000000            0.000000   1.664582e+09  \n",
       "25%               4.000000            0.000000   1.664754e+09  \n",
       "50%               9.000000            0.000000   1.664929e+09  \n",
       "75%              14.000000            0.000000   1.665102e+09  \n",
       "max              42.000000            1.000000   1.665276e+09  "
      ]
     },
     "execution_count": 6,
     "metadata": {},
     "output_type": "execute_result"
    }
   ],
   "source": [
    "df.describe()"
   ]
  },
  {
   "cell_type": "code",
   "execution_count": 86,
   "id": "2c8488dc-3d7e-43cf-98ac-da1c913fe26d",
   "metadata": {},
   "outputs": [
    {
     "data": {
      "text/plain": [
       "821898"
      ]
     },
     "execution_count": 86,
     "metadata": {},
     "output_type": "execute_result"
    }
   ],
   "source": [
    "len(df)"
   ]
  },
  {
   "cell_type": "code",
   "execution_count": 7,
   "id": "1eb49117-4657-4eec-87ae-02d9f41ea11d",
   "metadata": {},
   "outputs": [
    {
     "data": {
      "text/html": [
       "<div>\n",
       "<style scoped>\n",
       "    .dataframe tbody tr th:only-of-type {\n",
       "        vertical-align: middle;\n",
       "    }\n",
       "\n",
       "    .dataframe tbody tr th {\n",
       "        vertical-align: top;\n",
       "    }\n",
       "\n",
       "    .dataframe thead th {\n",
       "        text-align: right;\n",
       "    }\n",
       "</style>\n",
       "<table border=\"1\" class=\"dataframe\">\n",
       "  <thead>\n",
       "    <tr style=\"text-align: right;\">\n",
       "      <th></th>\n",
       "      <th>station_id</th>\n",
       "      <th>num_bikes_available</th>\n",
       "      <th>num_bikes_available_types</th>\n",
       "      <th>num_bikes_disabled</th>\n",
       "      <th>num_docks_available</th>\n",
       "      <th>num_docks_disabled</th>\n",
       "      <th>last_reported</th>\n",
       "      <th>is_charging_station</th>\n",
       "      <th>status</th>\n",
       "      <th>is_installed</th>\n",
       "      <th>is_renting</th>\n",
       "      <th>is_returning</th>\n",
       "      <th>traffic</th>\n",
       "      <th>datetime</th>\n",
       "    </tr>\n",
       "  </thead>\n",
       "  <tbody>\n",
       "    <tr>\n",
       "      <th>0</th>\n",
       "      <td>2</td>\n",
       "      <td>18</td>\n",
       "      <td>{'mechanical': 18, 'ebike': 0}</td>\n",
       "      <td>2</td>\n",
       "      <td>0</td>\n",
       "      <td>0</td>\n",
       "      <td>1.665274e+09</td>\n",
       "      <td>False</td>\n",
       "      <td>IN_SERVICE</td>\n",
       "      <td>True</td>\n",
       "      <td>True</td>\n",
       "      <td>True</td>\n",
       "      <td>None</td>\n",
       "      <td>2022-10-09 00:10:00</td>\n",
       "    </tr>\n",
       "    <tr>\n",
       "      <th>1</th>\n",
       "      <td>3</td>\n",
       "      <td>2</td>\n",
       "      <td>{'mechanical': 2, 'ebike': 0}</td>\n",
       "      <td>0</td>\n",
       "      <td>18</td>\n",
       "      <td>0</td>\n",
       "      <td>1.665274e+09</td>\n",
       "      <td>False</td>\n",
       "      <td>IN_SERVICE</td>\n",
       "      <td>True</td>\n",
       "      <td>True</td>\n",
       "      <td>True</td>\n",
       "      <td>None</td>\n",
       "      <td>2022-10-09 00:10:00</td>\n",
       "    </tr>\n",
       "    <tr>\n",
       "      <th>2</th>\n",
       "      <td>4</td>\n",
       "      <td>8</td>\n",
       "      <td>{'mechanical': 8, 'ebike': 0}</td>\n",
       "      <td>0</td>\n",
       "      <td>12</td>\n",
       "      <td>0</td>\n",
       "      <td>1.665274e+09</td>\n",
       "      <td>False</td>\n",
       "      <td>IN_SERVICE</td>\n",
       "      <td>True</td>\n",
       "      <td>True</td>\n",
       "      <td>True</td>\n",
       "      <td>None</td>\n",
       "      <td>2022-10-09 00:10:00</td>\n",
       "    </tr>\n",
       "    <tr>\n",
       "      <th>3</th>\n",
       "      <td>5</td>\n",
       "      <td>34</td>\n",
       "      <td>{'mechanical': 34, 'ebike': 0}</td>\n",
       "      <td>3</td>\n",
       "      <td>5</td>\n",
       "      <td>0</td>\n",
       "      <td>1.665274e+09</td>\n",
       "      <td>False</td>\n",
       "      <td>IN_SERVICE</td>\n",
       "      <td>True</td>\n",
       "      <td>True</td>\n",
       "      <td>True</td>\n",
       "      <td>None</td>\n",
       "      <td>2022-10-09 00:10:00</td>\n",
       "    </tr>\n",
       "    <tr>\n",
       "      <th>4</th>\n",
       "      <td>6</td>\n",
       "      <td>17</td>\n",
       "      <td>{'mechanical': 17, 'ebike': 0}</td>\n",
       "      <td>0</td>\n",
       "      <td>3</td>\n",
       "      <td>0</td>\n",
       "      <td>1.665274e+09</td>\n",
       "      <td>False</td>\n",
       "      <td>IN_SERVICE</td>\n",
       "      <td>True</td>\n",
       "      <td>True</td>\n",
       "      <td>True</td>\n",
       "      <td>None</td>\n",
       "      <td>2022-10-09 00:10:00</td>\n",
       "    </tr>\n",
       "  </tbody>\n",
       "</table>\n",
       "</div>"
      ],
      "text/plain": [
       "   station_id  num_bikes_available       num_bikes_available_types  \\\n",
       "0           2                   18  {'mechanical': 18, 'ebike': 0}   \n",
       "1           3                    2   {'mechanical': 2, 'ebike': 0}   \n",
       "2           4                    8   {'mechanical': 8, 'ebike': 0}   \n",
       "3           5                   34  {'mechanical': 34, 'ebike': 0}   \n",
       "4           6                   17  {'mechanical': 17, 'ebike': 0}   \n",
       "\n",
       "   num_bikes_disabled  num_docks_available  num_docks_disabled  last_reported  \\\n",
       "0                   2                    0                   0   1.665274e+09   \n",
       "1                   0                   18                   0   1.665274e+09   \n",
       "2                   0                   12                   0   1.665274e+09   \n",
       "3                   3                    5                   0   1.665274e+09   \n",
       "4                   0                    3                   0   1.665274e+09   \n",
       "\n",
       "   is_charging_station      status  is_installed  is_renting  is_returning  \\\n",
       "0                False  IN_SERVICE          True        True          True   \n",
       "1                False  IN_SERVICE          True        True          True   \n",
       "2                False  IN_SERVICE          True        True          True   \n",
       "3                False  IN_SERVICE          True        True          True   \n",
       "4                False  IN_SERVICE          True        True          True   \n",
       "\n",
       "  traffic            datetime  \n",
       "0    None 2022-10-09 00:10:00  \n",
       "1    None 2022-10-09 00:10:00  \n",
       "2    None 2022-10-09 00:10:00  \n",
       "3    None 2022-10-09 00:10:00  \n",
       "4    None 2022-10-09 00:10:00  "
      ]
     },
     "execution_count": 7,
     "metadata": {},
     "output_type": "execute_result"
    }
   ],
   "source": [
    "df.head()"
   ]
  },
  {
   "cell_type": "code",
   "execution_count": 8,
   "id": "7a2c1b1e-c324-4e7c-b462-af9ea7c5b4fb",
   "metadata": {},
   "outputs": [
    {
     "data": {
      "text/plain": [
       "821884"
      ]
     },
     "execution_count": 8,
     "metadata": {},
     "output_type": "execute_result"
    }
   ],
   "source": [
    "last_status = df.drop_duplicates(subset=[\"station_id\"], keep=\"last\")\n",
    "df = df[\n",
    "    df.station_id.isin(\n",
    "        last_status.loc[last_status.status == \"IN_SERVICE\", \"station_id\"].values\n",
    "    )\n",
    "]\n",
    "len(df)"
   ]
  },
  {
   "cell_type": "code",
   "execution_count": 12,
   "id": "c763c5b3",
   "metadata": {},
   "outputs": [],
   "source": [
    "df[\"last_reported\"] = pd.to_datetime(df[\"last_reported\"], unit = 's')"
   ]
  },
  {
   "cell_type": "code",
   "execution_count": 33,
   "id": "921d8d2d-ff23-4e2f-958f-ebd0dbc78a3a",
   "metadata": {},
   "outputs": [
    {
     "data": {
      "image/png": "[encoded data removed]",
      "text/plain": [
       "<Figure size 2200x800 with 1 Axes>"
      ]
     },
     "metadata": {},
     "output_type": "display_data"
    }
   ],
   "source": [
    "df.loc[df.station_id == 117].sort_values(\"last_reported\").plot(\n",
    "    y=\"num_bikes_available\",\n",
    "    x=\"last_reported\",\n",
    "    kind=\"line\",\n",
    "    figsize=(22, 8),\n",
    "    title=\"Availability for station 117\",\n",
    "    ylabel=\"Available bikes\",\n",
    "    xlabel=\"Datetime\",\n",
    ");"
   ]
  },
  {
   "cell_type": "code",
   "execution_count": 28,
   "id": "917ba490-25d0-4ae2-be7e-8fa54c8e2e7b",
   "metadata": {},
   "outputs": [],
   "source": [
    "df = df.sort_values([\"station_id\", \"last_reported\"])  # this way window functions are blazing fast\n",
    "df[\"time_since_prev_report\"] = df.groupby(\"station_id\").last_reported.diff().dt.total_seconds()\n",
    "df[\"available_bikes_delta\"] = df.groupby(\"station_id\").num_bikes_available.diff()"
   ]
  },
  {
   "cell_type": "code",
   "execution_count": 29,
   "id": "ca612675-ec89-422b-83ee-6e002d43276c",
   "metadata": {},
   "outputs": [
    {
     "data": {
      "text/html": [
       "<div>\n",
       "<style scoped>\n",
       "    .dataframe tbody tr th:only-of-type {\n",
       "        vertical-align: middle;\n",
       "    }\n",
       "\n",
       "    .dataframe tbody tr th {\n",
       "        vertical-align: top;\n",
       "    }\n",
       "\n",
       "    .dataframe thead th {\n",
       "        text-align: right;\n",
       "    }\n",
       "</style>\n",
       "<table border=\"1\" class=\"dataframe\">\n",
       "  <thead>\n",
       "    <tr style=\"text-align: right;\">\n",
       "      <th></th>\n",
       "      <th>station_id</th>\n",
       "      <th>num_bikes_available</th>\n",
       "      <th>num_bikes_available_types</th>\n",
       "      <th>num_bikes_disabled</th>\n",
       "      <th>num_docks_available</th>\n",
       "      <th>num_docks_disabled</th>\n",
       "      <th>last_reported</th>\n",
       "      <th>is_charging_station</th>\n",
       "      <th>status</th>\n",
       "      <th>is_installed</th>\n",
       "      <th>is_renting</th>\n",
       "      <th>is_returning</th>\n",
       "      <th>traffic</th>\n",
       "      <th>datetime</th>\n",
       "      <th>time_since_prev_report</th>\n",
       "      <th>available_bikes_delta</th>\n",
       "    </tr>\n",
       "  </thead>\n",
       "  <tbody>\n",
       "    <tr>\n",
       "      <th>0</th>\n",
       "      <td>2</td>\n",
       "      <td>15</td>\n",
       "      <td>{'mechanical': 15, 'ebike': 0}</td>\n",
       "      <td>5</td>\n",
       "      <td>0</td>\n",
       "      <td>0</td>\n",
       "      <td>2022-09-30 23:58:13</td>\n",
       "      <td>False</td>\n",
       "      <td>IN_SERVICE</td>\n",
       "      <td>True</td>\n",
       "      <td>True</td>\n",
       "      <td>True</td>\n",
       "      <td>None</td>\n",
       "      <td>2022-10-01 00:02:00</td>\n",
       "      <td>NaN</td>\n",
       "      <td>NaN</td>\n",
       "    </tr>\n",
       "    <tr>\n",
       "      <th>0</th>\n",
       "      <td>2</td>\n",
       "      <td>14</td>\n",
       "      <td>{'mechanical': 14, 'ebike': 0}</td>\n",
       "      <td>5</td>\n",
       "      <td>1</td>\n",
       "      <td>0</td>\n",
       "      <td>2022-10-01 00:02:34</td>\n",
       "      <td>False</td>\n",
       "      <td>IN_SERVICE</td>\n",
       "      <td>True</td>\n",
       "      <td>True</td>\n",
       "      <td>True</td>\n",
       "      <td>None</td>\n",
       "      <td>2022-10-01 00:06:00</td>\n",
       "      <td>261.0</td>\n",
       "      <td>-1.0</td>\n",
       "    </tr>\n",
       "    <tr>\n",
       "      <th>0</th>\n",
       "      <td>2</td>\n",
       "      <td>14</td>\n",
       "      <td>{'mechanical': 14, 'ebike': 0}</td>\n",
       "      <td>5</td>\n",
       "      <td>1</td>\n",
       "      <td>0</td>\n",
       "      <td>2022-10-01 00:06:53</td>\n",
       "      <td>False</td>\n",
       "      <td>IN_SERVICE</td>\n",
       "      <td>True</td>\n",
       "      <td>True</td>\n",
       "      <td>True</td>\n",
       "      <td>None</td>\n",
       "      <td>2022-10-01 00:10:00</td>\n",
       "      <td>259.0</td>\n",
       "      <td>0.0</td>\n",
       "    </tr>\n",
       "    <tr>\n",
       "      <th>0</th>\n",
       "      <td>2</td>\n",
       "      <td>14</td>\n",
       "      <td>{'mechanical': 14, 'ebike': 0}</td>\n",
       "      <td>5</td>\n",
       "      <td>1</td>\n",
       "      <td>0</td>\n",
       "      <td>2022-10-01 00:11:14</td>\n",
       "      <td>False</td>\n",
       "      <td>IN_SERVICE</td>\n",
       "      <td>True</td>\n",
       "      <td>True</td>\n",
       "      <td>True</td>\n",
       "      <td>None</td>\n",
       "      <td>2022-10-01 00:11:00</td>\n",
       "      <td>261.0</td>\n",
       "      <td>0.0</td>\n",
       "    </tr>\n",
       "    <tr>\n",
       "      <th>0</th>\n",
       "      <td>2</td>\n",
       "      <td>14</td>\n",
       "      <td>{'mechanical': 14, 'ebike': 0}</td>\n",
       "      <td>5</td>\n",
       "      <td>1</td>\n",
       "      <td>0</td>\n",
       "      <td>2022-10-01 00:15:34</td>\n",
       "      <td>False</td>\n",
       "      <td>IN_SERVICE</td>\n",
       "      <td>True</td>\n",
       "      <td>True</td>\n",
       "      <td>True</td>\n",
       "      <td>None</td>\n",
       "      <td>2022-10-01 00:17:00</td>\n",
       "      <td>260.0</td>\n",
       "      <td>0.0</td>\n",
       "    </tr>\n",
       "  </tbody>\n",
       "</table>\n",
       "</div>"
      ],
      "text/plain": [
       "   station_id  num_bikes_available       num_bikes_available_types  \\\n",
       "0           2                   15  {'mechanical': 15, 'ebike': 0}   \n",
       "0           2                   14  {'mechanical': 14, 'ebike': 0}   \n",
       "0           2                   14  {'mechanical': 14, 'ebike': 0}   \n",
       "0           2                   14  {'mechanical': 14, 'ebike': 0}   \n",
       "0           2                   14  {'mechanical': 14, 'ebike': 0}   \n",
       "\n",
       "   num_bikes_disabled  num_docks_available  num_docks_disabled  \\\n",
       "0                   5                    0                   0   \n",
       "0                   5                    1                   0   \n",
       "0                   5                    1                   0   \n",
       "0                   5                    1                   0   \n",
       "0                   5                    1                   0   \n",
       "\n",
       "        last_reported  is_charging_station      status  is_installed  \\\n",
       "0 2022-09-30 23:58:13                False  IN_SERVICE          True   \n",
       "0 2022-10-01 00:02:34                False  IN_SERVICE          True   \n",
       "0 2022-10-01 00:06:53                False  IN_SERVICE          True   \n",
       "0 2022-10-01 00:11:14                False  IN_SERVICE          True   \n",
       "0 2022-10-01 00:15:34                False  IN_SERVICE          True   \n",
       "\n",
       "   is_renting  is_returning traffic            datetime  \\\n",
       "0        True          True    None 2022-10-01 00:02:00   \n",
       "0        True          True    None 2022-10-01 00:06:00   \n",
       "0        True          True    None 2022-10-01 00:10:00   \n",
       "0        True          True    None 2022-10-01 00:11:00   \n",
       "0        True          True    None 2022-10-01 00:17:00   \n",
       "\n",
       "   time_since_prev_report  available_bikes_delta  \n",
       "0                     NaN                    NaN  \n",
       "0                   261.0                   -1.0  \n",
       "0                   259.0                    0.0  \n",
       "0                   261.0                    0.0  \n",
       "0                   260.0                    0.0  "
      ]
     },
     "execution_count": 29,
     "metadata": {},
     "output_type": "execute_result"
    }
   ],
   "source": [
    "df.head()"
   ]
  },
  {
   "cell_type": "code",
   "execution_count": 35,
   "id": "a41cf408-7196-4457-9fbd-5e9522b681af",
   "metadata": {},
   "outputs": [],
   "source": [
    "df.to_parquet(\"./data/parquets/2022-10.parquet\")"
   ]
  },
  {
   "cell_type": "code",
   "execution_count": null,
   "id": "10948186",
   "metadata": {},
   "outputs": [],
   "source": []
  }
 ],
 "metadata": {
  "kernelspec": {
   "display_name": "Python 3.10.6 ('research-bicisba-A0HrnKHR-py3.10')",
   "language": "python",
   "name": "python3"
  },
  "language_info": {
   "codemirror_mode": {
    "name": "ipython",
    "version": 3
   },
   "file_extension": ".py",
   "mimetype": "text/x-python",
   "name": "python",
   "nbconvert_exporter": "python",
   "pygments_lexer": "ipython3",
   "version": "3.10.6"
  },
  "vscode": {
   "interpreter": {
    "hash": "116d2b1e2657b354618eb157580267b90c673be9d2a02c06ea05a73a2857e78d"
   }
  },
  "widgets": {
   "application/vnd.jupyter.widget-state+json": {
    "state": {
     "027590190f6d4114bdbaaf6288ceb8e6": {
      "model_module": "@jupyter-widgets/base",
      "model_module_version": "1.2.0",
      "model_name": "LayoutModel",
      "state": {}
     },
     "076ea8c350c64cce8015a48c4d8edfbb": {
      "model_module": "@jupyter-widgets/controls",
      "model_module_version": "1.5.0",
      "model_name": "HTMLModel",
      "state": {
       "layout": "IPY_MODEL_3bf9310826e142ceb546ad68f0fca8c1",
       "style": "IPY_MODEL_621f4e2f1a1142ceaa0dbf5369d42c37",
       "value": " 11497/11497 [01:40&lt;00:00, 120.21it/s]"
      }
     },
     "07d8e94f7d564c28acdf97541e47b907": {
      "model_module": "@jupyter-widgets/controls",
      "model_module_version": "1.5.0",
      "model_name": "DescriptionStyleModel",
      "state": {
       "description_width": ""
      }
     },
     "0ad84e6f021447a4baa91b90283fa13f": {
      "model_module": "@jupyter-widgets/controls",
      "model_module_version": "1.5.0",
      "model_name": "HTMLModel",
      "state": {
       "layout": "IPY_MODEL_dad916fa89b149d59dabeafac7bd6124",
       "style": "IPY_MODEL_e83794e68c76433ca302d7bf3a32da7c",
       "value": " 0/11497 [00:00&lt;?, ?it/s]"
      }
     },
     "118fc59d762545fc84bf84a2a6b26857": {
      "model_module": "@jupyter-widgets/controls",
      "model_module_version": "1.5.0",
      "model_name": "ProgressStyleModel",
      "state": {
       "description_width": ""
      }
     },
     "13aea5ca2d9f4f0eb14fef7757a71275": {
      "model_module": "@jupyter-widgets/base",
      "model_module_version": "1.2.0",
      "model_name": "LayoutModel",
      "state": {}
     },
     "14791fff9f594c5b84fa80762a2c9289": {
      "model_module": "@jupyter-widgets/controls",
      "model_module_version": "1.5.0",
      "model_name": "HBoxModel",
      "state": {
       "children": [
        "IPY_MODEL_32252303915142d4bbbd50d966d81af9",
        "IPY_MODEL_326a0c3cddea4914bc402657cb8c8646",
        "IPY_MODEL_076ea8c350c64cce8015a48c4d8edfbb"
       ],
       "layout": "IPY_MODEL_f07e354abba64eca9cc99046809b9b30"
      }
     },
     "19cca0b7dbfd4487b3a69a79e910a656": {
      "model_module": "@jupyter-widgets/controls",
      "model_module_version": "1.5.0",
      "model_name": "DescriptionStyleModel",
      "state": {
       "description_width": ""
      }
     },
     "20ae1fbd47f740b9830904f8d3af4ede": {
      "model_module": "@jupyter-widgets/controls",
      "model_module_version": "1.5.0",
      "model_name": "DescriptionStyleModel",
      "state": {
       "description_width": ""
      }
     },
     "23fd3402b61d425a941e9d24093c6fb5": {
      "model_module": "@jupyter-widgets/base",
      "model_module_version": "1.2.0",
      "model_name": "LayoutModel",
      "state": {}
     },
     "2877013af192444398e1c2e1c2f3e292": {
      "model_module": "@jupyter-widgets/controls",
      "model_module_version": "1.5.0",
      "model_name": "DescriptionStyleModel",
      "state": {
       "description_width": ""
      }
     },
     "29a069258395458b96096fc853247472": {
      "model_module": "@jupyter-widgets/controls",
      "model_module_version": "1.5.0",
      "model_name": "HTMLModel",
      "state": {
       "layout": "IPY_MODEL_b490438ec24541b4b6489fab700c5a86",
       "style": "IPY_MODEL_2877013af192444398e1c2e1c2f3e292",
       "value": " 11497/11497 [01:30&lt;00:00, 154.96it/s]"
      }
     },
     "2ec4e32d0a6347ab88e796fe739ce837": {
      "model_module": "@jupyter-widgets/base",
      "model_module_version": "1.2.0",
      "model_name": "LayoutModel",
      "state": {}
     },
     "32252303915142d4bbbd50d966d81af9": {
      "model_module": "@jupyter-widgets/controls",
      "model_module_version": "1.5.0",
      "model_name": "HTMLModel",
      "state": {
       "layout": "IPY_MODEL_5d5a3157f2604eb5a72e0d97abcd76e3",
       "style": "IPY_MODEL_6d1e43c1e53440d48f8918fac702c24e",
       "value": "100%"
      }
     },
     "326a0c3cddea4914bc402657cb8c8646": {
      "model_module": "@jupyter-widgets/controls",
      "model_module_version": "1.5.0",
      "model_name": "FloatProgressModel",
      "state": {
       "bar_style": "success",
       "layout": "IPY_MODEL_81ecf400b2e749258a192e89004642d6",
       "max": 11497,
       "style": "IPY_MODEL_49d88cc97c8e40a381960d247d5d533f",
       "value": 11497
      }
     },
     "3470bb6268794e83a54ad81605794099": {
      "model_module": "@jupyter-widgets/base",
      "model_module_version": "1.2.0",
      "model_name": "LayoutModel",
      "state": {}
     },
     "34a8d9c8ed364729a338410326296cea": {
      "model_module": "@jupyter-widgets/base",
      "model_module_version": "1.2.0",
      "model_name": "LayoutModel",
      "state": {}
     },
     "38a26a2d4f184f46a6cbb6113904078d": {
      "model_module": "@jupyter-widgets/base",
      "model_module_version": "1.2.0",
      "model_name": "LayoutModel",
      "state": {}
     },
     "3bf9310826e142ceb546ad68f0fca8c1": {
      "model_module": "@jupyter-widgets/base",
      "model_module_version": "1.2.0",
      "model_name": "LayoutModel",
      "state": {}
     },
     "420de258f8354a44869b1d9ca552ca74": {
      "model_module": "@jupyter-widgets/controls",
      "model_module_version": "1.5.0",
      "model_name": "FloatProgressModel",
      "state": {
       "bar_style": "success",
       "layout": "IPY_MODEL_922fe78e17a34399a80fc88176705228",
       "max": 11497,
       "style": "IPY_MODEL_cf6d23c582e8485d93a12d306b0fa97f",
       "value": 11497
      }
     },
     "45005e7a0e1a4142bd04347d61e6ed17": {
      "model_module": "@jupyter-widgets/controls",
      "model_module_version": "1.5.0",
      "model_name": "DescriptionStyleModel",
      "state": {
       "description_width": ""
      }
     },
     "49d88cc97c8e40a381960d247d5d533f": {
      "model_module": "@jupyter-widgets/controls",
      "model_module_version": "1.5.0",
      "model_name": "ProgressStyleModel",
      "state": {
       "description_width": ""
      }
     },
     "4d4e624345ee43e89b32c16de0214adc": {
      "model_module": "@jupyter-widgets/controls",
      "model_module_version": "1.5.0",
      "model_name": "HBoxModel",
      "state": {
       "children": [
        "IPY_MODEL_5da85ca05ba5475f82e3b824a786ae80",
        "IPY_MODEL_bb0a410bbbf1428cb94d1c9f871f638c",
        "IPY_MODEL_ce1abdef58f14334929941843687f244"
       ],
       "layout": "IPY_MODEL_38a26a2d4f184f46a6cbb6113904078d"
      }
     },
     "4e5d123e602a473aa5b16d74ecf24179": {
      "model_module": "@jupyter-widgets/base",
      "model_module_version": "1.2.0",
      "model_name": "LayoutModel",
      "state": {}
     },
     "5237338e8eca491fb06be708c0e42f27": {
      "model_module": "@jupyter-widgets/controls",
      "model_module_version": "1.5.0",
      "model_name": "HTMLModel",
      "state": {
       "layout": "IPY_MODEL_e63d70b01d1f46948130c57329352500",
       "style": "IPY_MODEL_7c60dbe0639c468ba396d7eb009aa032",
       "value": "100%"
      }
     },
     "5292fba9677b49129b3e71609fdbce74": {
      "model_module": "@jupyter-widgets/controls",
      "model_module_version": "1.5.0",
      "model_name": "HBoxModel",
      "state": {
       "children": [
        "IPY_MODEL_c370fbe9b90844df844127f2f47d8c37",
        "IPY_MODEL_ae3ae907e43f4ba59927183711582116",
        "IPY_MODEL_0ad84e6f021447a4baa91b90283fa13f"
       ],
       "layout": "IPY_MODEL_f1b06fa1895b442a946a0364f156bd41"
      }
     },
     "54d230db08294f6d9c4cdec2b37f4675": {
      "model_module": "@jupyter-widgets/base",
      "model_module_version": "1.2.0",
      "model_name": "LayoutModel",
      "state": {}
     },
     "58707fd580884c54af663b5279b51072": {
      "model_module": "@jupyter-widgets/base",
      "model_module_version": "1.2.0",
      "model_name": "LayoutModel",
      "state": {}
     },
     "5d5a3157f2604eb5a72e0d97abcd76e3": {
      "model_module": "@jupyter-widgets/base",
      "model_module_version": "1.2.0",
      "model_name": "LayoutModel",
      "state": {}
     },
     "5da85ca05ba5475f82e3b824a786ae80": {
      "model_module": "@jupyter-widgets/controls",
      "model_module_version": "1.5.0",
      "model_name": "HTMLModel",
      "state": {
       "layout": "IPY_MODEL_ac96c05c28084130a52bab90ac54ee31",
       "style": "IPY_MODEL_19cca0b7dbfd4487b3a69a79e910a656",
       "value": "100%"
      }
     },
     "621f4e2f1a1142ceaa0dbf5369d42c37": {
      "model_module": "@jupyter-widgets/controls",
      "model_module_version": "1.5.0",
      "model_name": "DescriptionStyleModel",
      "state": {
       "description_width": ""
      }
     },
     "6d1e43c1e53440d48f8918fac702c24e": {
      "model_module": "@jupyter-widgets/controls",
      "model_module_version": "1.5.0",
      "model_name": "DescriptionStyleModel",
      "state": {
       "description_width": ""
      }
     },
     "6dd090873c2e405f8a66f4d903196cef": {
      "model_module": "@jupyter-widgets/controls",
      "model_module_version": "1.5.0",
      "model_name": "HBoxModel",
      "state": {
       "children": [
        "IPY_MODEL_5237338e8eca491fb06be708c0e42f27",
        "IPY_MODEL_420de258f8354a44869b1d9ca552ca74",
        "IPY_MODEL_9e805fcdad4b47e39d0dc7d60fc0e171"
       ],
       "layout": "IPY_MODEL_2ec4e32d0a6347ab88e796fe739ce837"
      }
     },
     "751c8eb62cb4407393f8ca86fb813120": {
      "model_module": "@jupyter-widgets/controls",
      "model_module_version": "1.5.0",
      "model_name": "HTMLModel",
      "state": {
       "layout": "IPY_MODEL_d051525079d24595a12caa60776d1e59",
       "style": "IPY_MODEL_45005e7a0e1a4142bd04347d61e6ed17",
       "value": "  3%"
      }
     },
     "7c60dbe0639c468ba396d7eb009aa032": {
      "model_module": "@jupyter-widgets/controls",
      "model_module_version": "1.5.0",
      "model_name": "DescriptionStyleModel",
      "state": {
       "description_width": ""
      }
     },
     "7d220f0dd7304ed7981132ef95603c89": {
      "model_module": "@jupyter-widgets/controls",
      "model_module_version": "1.5.0",
      "model_name": "ProgressStyleModel",
      "state": {
       "description_width": ""
      }
     },
     "81ecf400b2e749258a192e89004642d6": {
      "model_module": "@jupyter-widgets/base",
      "model_module_version": "1.2.0",
      "model_name": "LayoutModel",
      "state": {}
     },
     "8457df779bc54789a4928b88e2038b87": {
      "model_module": "@jupyter-widgets/controls",
      "model_module_version": "1.5.0",
      "model_name": "DescriptionStyleModel",
      "state": {
       "description_width": ""
      }
     },
     "8b88480fac814d30880e78c85034cb88": {
      "model_module": "@jupyter-widgets/base",
      "model_module_version": "1.2.0",
      "model_name": "LayoutModel",
      "state": {}
     },
     "922fe78e17a34399a80fc88176705228": {
      "model_module": "@jupyter-widgets/base",
      "model_module_version": "1.2.0",
      "model_name": "LayoutModel",
      "state": {}
     },
     "9e805fcdad4b47e39d0dc7d60fc0e171": {
      "model_module": "@jupyter-widgets/controls",
      "model_module_version": "1.5.0",
      "model_name": "HTMLModel",
      "state": {
       "layout": "IPY_MODEL_34a8d9c8ed364729a338410326296cea",
       "style": "IPY_MODEL_20ae1fbd47f740b9830904f8d3af4ede",
       "value": " 11497/11497 [01:10&lt;00:00, 171.14it/s]"
      }
     },
     "a775d0e5c91b436ab899c2e8fa530131": {
      "model_module": "@jupyter-widgets/controls",
      "model_module_version": "1.5.0",
      "model_name": "FloatProgressModel",
      "state": {
       "bar_style": "danger",
       "layout": "IPY_MODEL_23fd3402b61d425a941e9d24093c6fb5",
       "max": 11497,
       "style": "IPY_MODEL_e2584730e30d4c6d87f6e83fce4ef97e",
       "value": 288
      }
     },
     "ac96c05c28084130a52bab90ac54ee31": {
      "model_module": "@jupyter-widgets/base",
      "model_module_version": "1.2.0",
      "model_name": "LayoutModel",
      "state": {}
     },
     "acafbacc851f4f438821c51a6fddd512": {
      "model_module": "@jupyter-widgets/controls",
      "model_module_version": "1.5.0",
      "model_name": "ProgressStyleModel",
      "state": {
       "description_width": ""
      }
     },
     "ae3ae907e43f4ba59927183711582116": {
      "model_module": "@jupyter-widgets/controls",
      "model_module_version": "1.5.0",
      "model_name": "FloatProgressModel",
      "state": {
       "bar_style": "danger",
       "layout": "IPY_MODEL_f679b7175a174fb5828f366a60c227cb",
       "max": 11497,
       "style": "IPY_MODEL_118fc59d762545fc84bf84a2a6b26857"
      }
     },
     "b490438ec24541b4b6489fab700c5a86": {
      "model_module": "@jupyter-widgets/base",
      "model_module_version": "1.2.0",
      "model_name": "LayoutModel",
      "state": {}
     },
     "bb0a410bbbf1428cb94d1c9f871f638c": {
      "model_module": "@jupyter-widgets/controls",
      "model_module_version": "1.5.0",
      "model_name": "FloatProgressModel",
      "state": {
       "bar_style": "success",
       "layout": "IPY_MODEL_8b88480fac814d30880e78c85034cb88",
       "max": 11497,
       "style": "IPY_MODEL_7d220f0dd7304ed7981132ef95603c89",
       "value": 11497
      }
     },
     "bb10ba2bc5d64fa8addced2899c51ada": {
      "model_module": "@jupyter-widgets/controls",
      "model_module_version": "1.5.0",
      "model_name": "HBoxModel",
      "state": {
       "children": [
        "IPY_MODEL_bee1dce4c389405c886e254176b1df45",
        "IPY_MODEL_bcacd599713c4d188f30b36c0b3ae3e1",
        "IPY_MODEL_29a069258395458b96096fc853247472"
       ],
       "layout": "IPY_MODEL_3470bb6268794e83a54ad81605794099"
      }
     },
     "bcacd599713c4d188f30b36c0b3ae3e1": {
      "model_module": "@jupyter-widgets/controls",
      "model_module_version": "1.5.0",
      "model_name": "FloatProgressModel",
      "state": {
       "bar_style": "success",
       "layout": "IPY_MODEL_58707fd580884c54af663b5279b51072",
       "max": 11497,
       "style": "IPY_MODEL_acafbacc851f4f438821c51a6fddd512",
       "value": 11497
      }
     },
     "bccc24cd8cc54e4a82d1266c82e88c0b": {
      "model_module": "@jupyter-widgets/controls",
      "model_module_version": "1.5.0",
      "model_name": "DescriptionStyleModel",
      "state": {
       "description_width": ""
      }
     },
     "bee1dce4c389405c886e254176b1df45": {
      "model_module": "@jupyter-widgets/controls",
      "model_module_version": "1.5.0",
      "model_name": "HTMLModel",
      "state": {
       "layout": "IPY_MODEL_027590190f6d4114bdbaaf6288ceb8e6",
       "style": "IPY_MODEL_f1c8b721628c43f59c3274a9818fa8ac",
       "value": "100%"
      }
     },
     "c370fbe9b90844df844127f2f47d8c37": {
      "model_module": "@jupyter-widgets/controls",
      "model_module_version": "1.5.0",
      "model_name": "HTMLModel",
      "state": {
       "layout": "IPY_MODEL_13aea5ca2d9f4f0eb14fef7757a71275",
       "style": "IPY_MODEL_bccc24cd8cc54e4a82d1266c82e88c0b",
       "value": "  0%"
      }
     },
     "ce1abdef58f14334929941843687f244": {
      "model_module": "@jupyter-widgets/controls",
      "model_module_version": "1.5.0",
      "model_name": "HTMLModel",
      "state": {
       "layout": "IPY_MODEL_eab71b1532744613b00499c9f295f768",
       "style": "IPY_MODEL_8457df779bc54789a4928b88e2038b87",
       "value": " 11497/11497 [01:21&lt;00:00, 155.73it/s]"
      }
     },
     "cf6d23c582e8485d93a12d306b0fa97f": {
      "model_module": "@jupyter-widgets/controls",
      "model_module_version": "1.5.0",
      "model_name": "ProgressStyleModel",
      "state": {
       "description_width": ""
      }
     },
     "d051525079d24595a12caa60776d1e59": {
      "model_module": "@jupyter-widgets/base",
      "model_module_version": "1.2.0",
      "model_name": "LayoutModel",
      "state": {}
     },
     "dad916fa89b149d59dabeafac7bd6124": {
      "model_module": "@jupyter-widgets/base",
      "model_module_version": "1.2.0",
      "model_name": "LayoutModel",
      "state": {}
     },
     "dd8d30899136405199c91f00479136f6": {
      "model_module": "@jupyter-widgets/controls",
      "model_module_version": "1.5.0",
      "model_name": "HTMLModel",
      "state": {
       "layout": "IPY_MODEL_54d230db08294f6d9c4cdec2b37f4675",
       "style": "IPY_MODEL_07d8e94f7d564c28acdf97541e47b907",
       "value": " 288/11497 [00:03&lt;01:56, 96.46it/s]"
      }
     },
     "e2584730e30d4c6d87f6e83fce4ef97e": {
      "model_module": "@jupyter-widgets/controls",
      "model_module_version": "1.5.0",
      "model_name": "ProgressStyleModel",
      "state": {
       "description_width": ""
      }
     },
     "e63d70b01d1f46948130c57329352500": {
      "model_module": "@jupyter-widgets/base",
      "model_module_version": "1.2.0",
      "model_name": "LayoutModel",
      "state": {}
     },
     "e83794e68c76433ca302d7bf3a32da7c": {
      "model_module": "@jupyter-widgets/controls",
      "model_module_version": "1.5.0",
      "model_name": "DescriptionStyleModel",
      "state": {
       "description_width": ""
      }
     },
     "eab71b1532744613b00499c9f295f768": {
      "model_module": "@jupyter-widgets/base",
      "model_module_version": "1.2.0",
      "model_name": "LayoutModel",
      "state": {}
     },
     "f07e354abba64eca9cc99046809b9b30": {
      "model_module": "@jupyter-widgets/base",
      "model_module_version": "1.2.0",
      "model_name": "LayoutModel",
      "state": {}
     },
     "f1b06fa1895b442a946a0364f156bd41": {
      "model_module": "@jupyter-widgets/base",
      "model_module_version": "1.2.0",
      "model_name": "LayoutModel",
      "state": {}
     },
     "f1c8b721628c43f59c3274a9818fa8ac": {
      "model_module": "@jupyter-widgets/controls",
      "model_module_version": "1.5.0",
      "model_name": "DescriptionStyleModel",
      "state": {
       "description_width": ""
      }
     },
     "f51e59e571c140f58318cb51bd0a548a": {
      "model_module": "@jupyter-widgets/controls",
      "model_module_version": "1.5.0",
      "model_name": "HBoxModel",
      "state": {
       "children": [
        "IPY_MODEL_751c8eb62cb4407393f8ca86fb813120",
        "IPY_MODEL_a775d0e5c91b436ab899c2e8fa530131",
        "IPY_MODEL_dd8d30899136405199c91f00479136f6"
       ],
       "layout": "IPY_MODEL_4e5d123e602a473aa5b16d74ecf24179"
      }
     },
     "f679b7175a174fb5828f366a60c227cb": {
      "model_module": "@jupyter-widgets/base",
      "model_module_version": "1.2.0",
      "model_name": "LayoutModel",
      "state": {}
     }
    },
    "version_major": 2,
    "version_minor": 0
   }
  }
 },
 "nbformat": 4,
 "nbformat_minor": 5
}
