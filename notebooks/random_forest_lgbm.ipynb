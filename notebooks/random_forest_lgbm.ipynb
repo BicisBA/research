{
 "cells": [
  {
   "cell_type": "code",
   "execution_count": 7,
   "metadata": {},
   "outputs": [],
   "source": [
    "import duckdb\n",
    "import pyarrow.dataset as ds\n",
    "import pandas as pd\n",
    "from sklearn.compose import ColumnTransformer\n",
    "from sklearn.preprocessing import OneHotEncoder, StandardScaler\n",
    "from sklearn.pipeline import make_pipeline\n",
    "from sklearn.ensemble import RandomForestClassifier\n",
    "from sklearn.metrics import confusion_matrix\n",
    "from sklearn.model_selection import train_test_split\n",
    "import lightgbm as lgb"
   ]
  },
  {
   "cell_type": "code",
   "execution_count": 2,
   "metadata": {},
   "outputs": [],
   "source": [
    "dataset = ds.dataset(\"data/status\", format=\"parquet\", partitioning=\"hive\")"
   ]
  },
  {
   "cell_type": "code",
   "execution_count": 3,
   "metadata": {},
   "outputs": [],
   "source": [
    "con = duckdb.connect()\n",
    "con = con.register(\"status\", dataset)"
   ]
  },
  {
   "cell_type": "code",
   "execution_count": 5,
   "metadata": {},
   "outputs": [
    {
     "data": {
      "text/plain": [
       "472"
      ]
     },
     "execution_count": 5,
     "metadata": {},
     "output_type": "execute_result"
    }
   ],
   "source": [
    "station_ids = con.execute(\"select distinct(station_id) from status\").df()[\"station_id\"].values\n",
    "len(station_ids)"
   ]
  },
  {
   "cell_type": "code",
   "execution_count": 77,
   "metadata": {},
   "outputs": [],
   "source": [
    "for station_id in station_ids[:1]:\n",
    "    df_query = f\"\"\"\n",
    "    WITH base_status AS (select\n",
    "        station_id,\n",
    "        hour,\n",
    "        num_bikes_available,\n",
    "        num_bikes_disabled,\n",
    "        num_docks_available,\n",
    "        num_docks_disabled,\n",
    "        status,\n",
    "        make_timestamp(year, month, day, hour, minute, 0.0) as ts,\n",
    "    from\n",
    "        status\n",
    "    where\n",
    "        make_timestamp(year, month, day, hour, minute, 0.0)\n",
    "        between make_timestamp(2022, 6, 1, 0, 0, 0.0)\n",
    "        and make_timestamp(2022, 9, 1, 0, 0, 0.0) and\n",
    "        station_id = {station_id} and\n",
    "        status = 'IN_SERVICE')\"\"\"\n",
    "    df_query += \" union \".join([\n",
    "    f\"\"\"\n",
    "    select\n",
    "        station_id,\n",
    "        hour,\n",
    "        dayofweek(ts) as dow,\n",
    "        num_bikes_available,\n",
    "        num_bikes_disabled,\n",
    "        num_docks_available,\n",
    "        num_docks_disabled,\n",
    "        minute(lead(ts, {i}) over (\n",
    "            order by ts asc\n",
    "        ) - ts)  as minutes_bt_check,\n",
    "        lead(num_bikes_available, {i}) over (\n",
    "            order by ts asc\n",
    "        ) as remaining_bikes_available,\n",
    "    from\n",
    "        base_status\n",
    "    \"\"\" for i in range(1, 17, 3)])\n",
    "    dataset_df = con.execute(df_query).df()"
   ]
  },
  {
   "cell_type": "code",
   "execution_count": 78,
   "metadata": {},
   "outputs": [],
   "source": [
    "dataset_df[\"remaining_bikes_available\"] = (dataset_df[\"remaining_bikes_available\"]>0).astype(int)"
   ]
  },
  {
   "cell_type": "code",
   "execution_count": 79,
   "metadata": {},
   "outputs": [
    {
     "data": {
      "text/plain": [
       "38922"
      ]
     },
     "execution_count": 79,
     "metadata": {},
     "output_type": "execute_result"
    }
   ],
   "source": [
    "len(dataset_df)"
   ]
  },
  {
   "cell_type": "code",
   "execution_count": 80,
   "metadata": {},
   "outputs": [
    {
     "data": {
      "text/plain": [
       "1    0.991881\n",
       "0    0.008119\n",
       "Name: remaining_bikes_available, dtype: float64"
      ]
     },
     "execution_count": 80,
     "metadata": {},
     "output_type": "execute_result"
    }
   ],
   "source": [
    "dataset_df[\"remaining_bikes_available\"].value_counts(normalize=True)"
   ]
  },
  {
   "cell_type": "code",
   "execution_count": 142,
   "metadata": {},
   "outputs": [],
   "source": [
    "FEATURES_ORDER = [\"hour\", \"dow\", \"num_bikes_available\", \"num_bikes_disabled\", \"num_docks_available\", \"num_docks_disabled\", \"minutes_bt_check\"]\n",
    "TARGET = \"remaining_bikes_available\"\n",
    "CLASS_WEIGHT = {0: 10000, 1: 1}\n",
    "OHE_SLICE = [0, 1]\n",
    "SS_SLICE = slice(2,7)\n",
    "TEST_SIZE = 0.2"
   ]
  },
  {
   "cell_type": "code",
   "execution_count": 159,
   "metadata": {},
   "outputs": [],
   "source": [
    "pipeline = make_pipeline(\n",
    "    ColumnTransformer([(\"ohe\",  OneHotEncoder(sparse=False), OHE_SLICE), (\"ss\",  StandardScaler(), SS_SLICE)]),\n",
    "    RandomForestClassifier(n_estimators=10, max_depth=10, class_weight=CLASS_WEIGHT))\n",
    "dataset_df = dataset_df.dropna()\n",
    "X_train, X_test, y_train, y_test = train_test_split(dataset_df[FEATURES_ORDER].values, dataset_df[TARGET].values, test_size=TEST_SIZE, shuffle=False)\n",
    "pipeline.fit(X_train, y_train)\n",
    "rf_metrics = confusion_matrix(y_test, pipeline.predict(X_test), normalize=\"true\").ravel()"
   ]
  },
  {
   "cell_type": "code",
   "execution_count": 160,
   "metadata": {},
   "outputs": [
    {
     "name": "stdout",
     "output_type": "stream",
     "text": [
      "tn: 0.971830985915493, fp: 0.028169014084507043, fn: 0.0697523661350966, tp: 0.9302476338649034\n"
     ]
    }
   ],
   "source": [
    "tn, fp, fn, tp = rf_metrics\n",
    "print(f\"tn: {tn}, fp: {fp}, fn: {fn}, tp: {tp}\")"
   ]
  },
  {
   "cell_type": "code",
   "execution_count": 132,
   "metadata": {},
   "outputs": [
    {
     "data": {
      "text/plain": [
       "71"
      ]
     },
     "execution_count": 132,
     "metadata": {},
     "output_type": "execute_result"
    }
   ],
   "source": [
    "num_round = 10\n",
    "param = {'scale_pos_weight': 1/100}\n",
    "bst = lgb.train(param, train_data, num_round)"
   ]
  },
  {
   "cell_type": "code",
   "execution_count": 133,
   "metadata": {},
   "outputs": [
    {
     "data": {
      "text/plain": [
       "7713"
      ]
     },
     "execution_count": 133,
     "metadata": {},
     "output_type": "execute_result"
    }
   ],
   "source": [
    "bst.predict(X_test)\n"
   ]
  },
  {
   "cell_type": "code",
   "execution_count": 105,
   "metadata": {},
   "outputs": [
    {
     "data": {
      "text/plain": [
       "array([1, 1, 1, ..., 1, 1, 1])"
      ]
     },
     "execution_count": 105,
     "metadata": {},
     "output_type": "execute_result"
    }
   ],
   "source": [
    "pipeline.predict(X_test)"
   ]
  },
  {
   "cell_type": "code",
   "execution_count": null,
   "metadata": {},
   "outputs": [],
   "source": []
  }
 ],
 "metadata": {
  "kernelspec": {
   "display_name": "research-bicisba-A0HrnKHR-py3.10",
   "language": "python",
   "name": "python3"
  },
  "language_info": {
   "codemirror_mode": {
    "name": "ipython",
    "version": 3
   },
   "file_extension": ".py",
   "mimetype": "text/x-python",
   "name": "python",
   "nbconvert_exporter": "python",
   "pygments_lexer": "ipython3",
   "version": "3.10.6"
  },
  "orig_nbformat": 4,
  "vscode": {
   "interpreter": {
    "hash": "116d2b1e2657b354618eb157580267b90c673be9d2a02c06ea05a73a2857e78d"
   }
  }
 },
 "nbformat": 4,
 "nbformat_minor": 2
}
